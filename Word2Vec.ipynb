{
  "nbformat": 4,
  "nbformat_minor": 0,
  "metadata": {
    "colab": {
      "name": "Word2Vec.ipynb",
      "provenance": []
    },
    "kernelspec": {
      "name": "python3",
      "display_name": "Python 3"
    },
    "language_info": {
      "name": "python"
    },
    "accelerator": "GPU"
  },
  "cells": [
    {
      "cell_type": "markdown",
      "metadata": {
        "id": "5gXTriBZPoXB"
      },
      "source": [
        "#Setup"
      ]
    },
    {
      "cell_type": "markdown",
      "metadata": {
        "id": "9Y-oKTX7PtHG"
      },
      "source": [
        "##Imports"
      ]
    },
    {
      "cell_type": "code",
      "metadata": {
        "id": "VfqonRI287cG"
      },
      "source": [
        "import numpy as np\n",
        "import tensorflow as tf\n",
        "import pandas as pd\n",
        "from tensorflow.keras.preprocessing.text import Tokenizer\n",
        "import random\n",
        "from tensorflow.keras.preprocessing.sequence import pad_sequences\n",
        "\n",
        "from tensorflow.python.ops.numpy_ops import np_config\n",
        "np_config.enable_numpy_behavior()"
      ],
      "execution_count": 19,
      "outputs": []
    },
    {
      "cell_type": "markdown",
      "metadata": {
        "id": "Y2wEIeGNPxlK"
      },
      "source": [
        "##Data"
      ]
    },
    {
      "cell_type": "markdown",
      "metadata": {
        "id": "wVLUnkm0P4BC"
      },
      "source": [
        "###Load Data"
      ]
    },
    {
      "cell_type": "code",
      "metadata": {
        "colab": {
          "base_uri": "https://localhost:8080/"
        },
        "id": "i1TQNECf9LbS",
        "outputId": "46d41cbf-6aa7-4644-fb2a-97caccf87b00"
      },
      "source": [
        "text = list(pd.read_csv('/content/in_domain_train.tsv', sep='\\t', header=None)[3]) + list(pd.read_csv('/content/in_domain_dev.tsv', sep='\\t', header=None)[3]) + list(pd.read_csv('/content/out_of_domain_dev.tsv', sep='\\t', header=None)[3])\n",
        "text[-10: -1]"
      ],
      "execution_count": 2,
      "outputs": [
        {
          "output_type": "execute_result",
          "data": {
            "text/plain": [
              "['John thinks it would upset himself to die.',\n",
              " 'John made Bill mad at himself.',\n",
              " 'John made Bill master of himself.',\n",
              " 'The correspondence school made Bill a good typist.',\n",
              " 'The correspondence school sent Bill a good typist.',\n",
              " 'John considers Bill silly.',\n",
              " 'John considers Bill to be silly.',\n",
              " 'John bought a dog for himself to play with.',\n",
              " 'John arranged for himself to get the prize.']"
            ]
          },
          "metadata": {},
          "execution_count": 2
        }
      ]
    },
    {
      "cell_type": "code",
      "metadata": {
        "colab": {
          "base_uri": "https://localhost:8080/"
        },
        "id": "HSFp8oHTDTKs",
        "outputId": "fdb39f57-58b4-46ed-8fb4-ae0e263ef5b2"
      },
      "source": [
        "print(len(text))"
      ],
      "execution_count": 3,
      "outputs": [
        {
          "output_type": "stream",
          "text": [
            "9594\n"
          ],
          "name": "stdout"
        }
      ]
    },
    {
      "cell_type": "markdown",
      "metadata": {
        "id": "w14OJ_5DP_yC"
      },
      "source": [
        "###Preprocess Text"
      ]
    },
    {
      "cell_type": "code",
      "metadata": {
        "colab": {
          "base_uri": "https://localhost:8080/"
        },
        "id": "3Kf3Ki0QAvH1",
        "outputId": "fcf998ef-0890-46de-bc16-e8764a131286"
      },
      "source": [
        "tokenizer = Tokenizer()\n",
        "tokenizer.fit_on_texts(text)\n",
        "tokenized_text = tokenizer.texts_to_sequences(text)\n",
        "len(tokenized_text)"
      ],
      "execution_count": 4,
      "outputs": [
        {
          "output_type": "execute_result",
          "data": {
            "text/plain": [
              "9594"
            ]
          },
          "metadata": {},
          "execution_count": 4
        }
      ]
    },
    {
      "cell_type": "code",
      "metadata": {
        "colab": {
          "base_uri": "https://localhost:8080/"
        },
        "id": "SSJv_ZqsCxgW",
        "outputId": "c9920218-fcda-4fc5-b6a5-682fdad87beb"
      },
      "source": [
        "idx_word = {v: k for k, v in tokenizer.word_index.items()}\n",
        "print(idx_word)"
      ],
      "execution_count": 5,
      "outputs": [
        {
          "output_type": "stream",
          "text": [
            "{1: 'the', 2: 'to', 3: 'a', 4: 'that', 5: 'i', 6: 'is', 7: 'john', 8: 'of', 9: 'was', 10: 'and', 11: 'in', 12: 'he', 13: 'it', 14: 'you', 15: 'be', 16: 'who', 17: 'mary', 18: 'on', 19: 'bill', 20: 'for', 21: 'will', 22: 'with', 23: 'did', 24: 'which', 25: 'we', 26: 'have', 27: 'more', 28: 'this', 29: 'his', 30: 'they', 31: 'by', 32: 'book', 33: 'at', 34: 'she', 35: 'him', 36: 'has', 37: 'not', 38: 'her', 39: 'had', 40: 'me', 41: 'from', 42: 'what', 43: 'man', 44: 'would', 45: 'there', 46: 'are', 47: 'as', 48: 'my', 49: 'up', 50: 'than', 51: 'been', 52: 'put', 53: 'any', 54: 'but', 55: 'do', 56: 'all', 57: 'some', 58: 'himself', 59: 'left', 60: 'leave', 61: 'about', 62: 'know', 63: 'gave', 64: 'can', 65: 'every', 66: 'into', 67: 'were', 68: 'people', 69: 'saw', 70: 'eat', 71: 'if', 72: 'one', 73: 'ball', 74: 'student', 75: 'an', 76: 'out', 77: 'go', 78: 'students', 79: 'how', 80: 'said', 81: 'too', 82: 'read', 83: 'like', 84: 'should', 85: 'no', 86: 'kim', 87: 'girl', 88: 'picture', 89: 'think', 90: 'tom', 91: 'so', 92: 'bought', 93: \"didn't\", 94: 'much', 95: 'ate', 96: 'believe', 97: 'believed', 98: 'your', 99: 'table', 100: 'could', 101: 'books', 102: 'made', 103: 'never', 104: 'when', 105: 'many', 106: 'them', 107: \"don't\", 108: 'sent', 109: 'fred', 110: 'likes', 111: 'us', 112: 'problem', 113: 'tomorrow', 114: 'got', 115: 'boy', 116: 'before', 117: 'red', 118: 'talked', 119: 'want', 120: 'seems', 121: 'desk', 122: 'sally', 123: 'everyone', 124: 'dog', 125: 'wonder', 126: 'came', 127: 'eaten', 128: 'cat', 129: 'or', 130: 'car', 131: 'these', 132: 'very', 133: 'last', 134: 'might', 135: 'children', 136: 'hit', 137: 'herself', 138: 'sandy', 139: 'went', 140: 'does', 141: 'asked', 142: \"i'm\", 143: 'their', 144: 'whether', 145: 'give', 146: 'susan', 147: 'ever', 148: 'new', 149: 'taller', 150: 'kicked', 151: 'easily', 152: 'whom', 153: 'time', 154: 'may', 155: 'wanted', 156: 'money', 157: 'medea', 158: 'over', 159: 'after', 160: 'happy', 161: 'must', 162: 'box', 163: 'buy', 164: 'house', 165: 'likely', 166: 'enough', 167: 'met', 168: 'kissed', 169: 'tried', 170: 'told', 171: 'yesterday', 172: 'going', 173: 'thinks', 174: 'believes', 175: 'love', 176: 'jason', 177: 'loved', 178: 'harry', 179: 'wants', 180: 'water', 181: 'pat', 182: 'broke', 183: 'see', 184: 'get', 185: 'because', 186: 'mother', 187: 'easy', 188: 'cake', 189: 'president', 190: 'anything', 191: 'old', 192: 'gilgamesh', 193: 'tall', 194: 'woman', 195: 'thought', 196: 'good', 197: 'knows', 198: 'men', 199: 'pictures', 200: 'arrived', 201: 'here', 202: 'only', 203: 'anson', 204: 'our', 205: 'sue', 206: 'under', 207: 'gets', 208: 'am', 209: 'work', 210: 'teacher', 211: 'each', 212: 'coat', 213: 'sang', 214: 'eats', 215: 'sick', 216: 'those', 217: 'smith', 218: 'party', 219: 'room', 220: 'down', 221: 'win', 222: 'father', 223: 'lee', 224: 'off', 225: 'through', 226: 'most', 227: 'well', 228: 'just', 229: 'reading', 230: 'certain', 231: 'class', 232: \"won't\", 233: 'way', 234: 'come', 235: \"he's\", 236: 'sam', 237: 'where', 238: 'obvious', 239: 'baby', 240: \"i've\", 241: 'beer', 242: 'seen', 243: 'wall', 244: 'whose', 245: 'ellen', 246: 'eating', 247: 'became', 248: 'bob', 249: 'child', 250: 'package', 251: 'park', 252: 'always', 253: 'door', 254: 'hat', 255: 'long', 256: 'piano', 257: 'letter', 258: \"can't\", 259: 'please', 260: 'myself', 261: 'pick', 262: 'jane', 263: 'play', 264: \"doesn't\", 265: 'two', 266: 'store', 267: 'found', 268: 'chris', 269: 'run', 270: 'try', 271: 'person', 272: 'tree', 273: \"john's\", 274: 'story', 275: 'claim', 276: 'cream', 277: 'other', 278: 'ice', 279: 'against', 280: 'boys', 281: 'frank', 282: 'loves', 283: 'little', 284: 'meet', 285: 'jack', 286: 'several', 287: 'helen', 288: 'mr', 289: 'friends', 290: 'say', 291: 'solve', 292: 'being', 293: 'working', 294: 'such', 295: 'cut', 296: 'sleep', 297: 'horse', 298: 'city', 299: 'first', 300: 'back', 301: 'really', 302: 'often', 303: 'garden', 304: 'expected', 305: 'three', 306: 'threw', 307: 'make', 308: 'place', 309: 'bread', 310: 'eager', 311: 'heidi', 312: 'night', 313: 'angry', 314: 'kept', 315: 'pay', 316: 'looked', 317: 'seem', 318: 'senator', 319: \"it's\", 320: 'persuaded', 321: 'home', 322: 'jean', 323: 'someone', 324: 'promised', 325: 'behind', 326: 'paula', 327: 'calvin', 328: 'doctor', 329: 'news', 330: \"isn't\", 331: 'knew', 332: 'fool', 333: 'peter', 334: 'given', 335: 'friend', 336: 'handed', 337: 'hates', 338: 'ran', 339: 'liked', 340: 'find', 341: 'answer', 342: 'tony', 343: 'slept', 344: 'school', 345: 'offered', 346: 'drove', 347: 'window', 348: 'itself', 349: 'talk', 350: 'seemed', 351: 'having', 352: 'holly', 353: 'presented', 354: 'dress', 355: 'few', 356: 'surprised', 357: 'martha', 358: 'cynthia', 359: 'dogs', 360: 'aphrodite', 361: 'heard', 362: 'consider', 363: 'fell', 364: 'touched', 365: 'french', 366: 'david', 367: 'now', 368: 'papers', 369: 'game', 370: 'poison', 371: 'fanny', 372: 'shakespeare', 373: 'pigs', 374: 'ourselves', 375: 'building', 376: 'river', 377: 'why', 378: 'ask', 379: 'lot', 380: 'able', 381: 'claimed', 382: 'fire', 383: 'fence', 384: 'fond', 385: \"mary's\", 386: 'marry', 387: 'exam', 388: 'anybody', 389: 'ready', 390: 'talking', 391: 'appeared', 392: 'danced', 393: 'become', 394: 'less', 395: 'joe', 396: 'right', 397: 'brother', 398: 'prefer', 399: 'aunt', 400: 'yourself', 401: 'kind', 402: 'chased', 403: 'around', 404: 'fly', 405: 'carla', 406: 'leslie', 407: 'away', 408: 'pushed', 409: 'onto', 410: 'important', 411: 'quickly', 412: 'question', 413: 'intelligent', 414: 'tell', 415: 'jones', 416: 'elected', 417: 'bed', 418: 'destroyed', 419: 'stone', 420: 'expect', 421: 'although', 422: 'paper', 423: 'solution', 424: 'together', 425: 'five', 426: 'brought', 427: 'year', 428: 'washed', 429: 'carved', 430: 'steve', 431: 'jenny', 432: 'flowers', 433: 'hard', 434: 'library', 435: 'even', 436: 'soon', 437: 'almost', 438: 'something', 439: 'government', 440: 'flying', 441: 'pregnant', 442: 'still', 443: 'help', 444: 'english', 445: 'york', 446: 'clothes', 447: 'poems', 448: 'reliable', 449: 'dinner', 450: 'muffins', 451: 'study', 452: 'day', 453: 'faster', 454: 'linguistics', 455: 'everybody', 456: 'wrote', 457: 'remember', 458: 'name', 459: 'paint', 460: 'jumped', 461: 'ordered', 462: 'both', 463: 'known', 464: 'meeting', 465: 'stood', 466: 'rain', 467: 'poisoned', 468: 'stopped', 469: 'king', 470: 'fido', 471: 'butter', 472: 'song', 473: 'julie', 474: \"i'll\", 475: 'drink', 476: 'show', 477: 'worked', 478: 'nice', 479: 'need', 480: 'fruit', 481: 'high', 482: 'cup', 483: 'cooked', 484: 'max', 485: 'themselves', 486: 'cabbage', 487: 'cats', 488: 'take', 489: 'prize', 490: \"bill's\", 491: 'nora', 492: 'committee', 493: 'robert', 494: 'satisfied', 495: 'disappeared', 496: 'hole', 497: 'appear', 498: \"you'll\", 499: 'proved', 500: 'guy', 501: 'stole', 502: 'crazy', 503: 'bottle', 504: 'truck', 505: 'cloth', 506: 'harriet', 507: 'though', 508: 'spoke', 509: 'gone', 510: 'while', 511: 'country', 512: 'today', 513: 'handsome', 514: 'company', 515: 'hopes', 516: 'henry', 517: 'best', 518: 'written', 519: 'terry', 520: 'cover', 521: 'gold', 522: 'walked', 523: 'syntax', 524: 'feet', 525: 'benjamin', 526: 'agamemnon', 527: 'professor', 528: 'hill', 529: 'free', 530: 'keep', 531: 'matter', 532: 'talks', 533: \"hasn't\", 534: 'write', 535: 'station', 536: 'took', 537: 'perfectly', 538: 'proud', 539: 'either', 540: 'wearing', 541: 'else', 542: 'showed', 543: 'lifted', 544: 'convinced', 545: 'died', 546: \"boy's\", 547: 'packages', 548: 'socks', 549: 'world', 550: 'swatted', 551: 'george', 552: 'amanda', 553: 'paul', 554: 'happened', 555: \"that's\", 556: 'years', 557: 'louis', 558: 'dancing', 559: 'ground', 560: 'food', 561: 'corporate', 562: 'thief', 563: 'kiss', 564: 'won', 565: 'played', 566: 'trying', 567: 'difficult', 568: 'girls', 569: 'anna', 570: 'arm', 571: 'seven', 572: 'knife', 573: 'sarah', 574: 'white', 575: 'alison', 576: 'woods', 577: 'flower', 578: 'job', 579: 'early', 580: 'placed', 581: 'six', 582: 'mice', 583: 'whiskey', 584: 'poseidon', 585: 'dead', 586: 'carefully', 587: 'fact', 588: 'tries', 589: 'sitting', 590: 'force', 591: 'ship', 592: 'fish', 593: 'immediately', 594: 'cost', 595: 'send', 596: 'dangerous', 597: 'visited', 598: 'near', 599: 'half', 600: 'better', 601: 'potatoes', 602: 'somebody', 603: 'turned', 604: 'ann', 605: 'sister', 606: 'taken', 607: 'true', 608: 'review', 609: 'sun', 610: 'nobody', 611: 'maxwell', 612: 'songs', 613: 'owl', 614: 'letters', 615: 'sharon', 616: 'wood', 617: 'stick', 618: 'jessica', 619: 'carol', 620: 'peaches', 621: 'policeman', 622: 'young', 623: 'takes', 624: 'computer', 625: 'stephen', 626: 'asparagus', 627: 'cloak', 628: 'ishtar', 629: 'its', 630: 'sooner', 631: 'upset', 632: 'sure', 633: 'lobbyists', 634: 'folks', 635: 'headquarters', 636: 'wondered', 637: 'innocent', 638: 'kids', 639: 'quite', 640: 'apple', 641: 'loaded', 642: 'different', 643: 'sing', 644: 'speaks', 645: 'called', 646: 'mike', 647: 'live', 648: 'playing', 649: 'possible', 650: 'police', 651: 'dick', 652: 'ten', 653: 'heavy', 654: 'anne', 655: 'molly', 656: 'toy', 657: 'hair', 658: 'linda', 659: 'handle', 660: 'accident', 661: 'captain', 662: 'snow', 663: 'doug', 664: 'carmen', 665: 'milk', 666: 'dana', 667: 'whispered', 668: 'killed', 669: 'large', 670: 'singing', 671: 'seoul', 672: 'monkey', 673: 'week', 674: 'present', 675: 'deep', 676: 'animals', 677: 'emma', 678: 'norris', 679: 'coughed', 680: 'herman', 681: 'laughed', 682: 'rolled', 683: 'drank', 684: 'fit', 685: 'ring', 686: 'angrier', 687: 'harder', 688: 'appears', 689: 'big', 690: 'careful', 691: 'hate', 692: \"couldn't\", 693: 'filled', 694: 'learned', 695: 'plays', 696: 'violin', 697: 'considered', 698: 'drunk', 699: 'running', 700: 'wear', 701: 'town', 702: 'proposal', 703: '000', 704: 'days', 705: 'nurse', 706: \"she's\", 707: 'extremely', 708: 'mixed', 709: 'mailed', 710: 'joan', 711: 'shave', 712: 'finish', 713: 'dan', 714: 'hand', 715: 'black', 716: 'lent', 717: 'sprayed', 718: 'mouse', 719: 'eggs', 720: 'round', 721: 'walk', 722: 'fountain', 723: 'bag', 724: 'look', 725: 'homework', 726: 'dance', 727: 'potion', 728: 'fix', 729: 'road', 730: 'hours', 731: 'attention', 732: 'reads', 733: 'arrive', 734: 'opportunity', 735: 'corrupt', 736: 'satisfy', 737: 'newspaper', 738: 'race', 739: 'fed', 740: 'life', 741: 'hated', 742: 'roof', 743: 'escaped', 744: 'lost', 745: 'chair', 746: 'leaving', 747: 'vacation', 748: 'proof', 749: 'salmon', 750: 'anyone', 751: 'rich', 752: 'offended', 753: 'attended', 754: 'boston', 755: 'afraid', 756: 'warned', 757: 'surprise', 758: 'looking', 759: 'open', 760: 'fluffy', 761: 'willy', 762: 'andy', 763: 'bicycle', 764: 'france', 765: 'jeweller', 766: 'brian', 767: 'cook', 768: 'mrs', 769: 'available', 770: 'monkeys', 771: 'dragon', 772: 'sad', 773: 'peanut', 774: 'fried', 775: 'executioner', 776: 'plato', 777: 'analysis', 778: 'let', 779: 'next', 780: 'flat', 781: 'gardener', 782: 'across', 783: 'ron', 784: 'clear', 785: 'rains', 786: 'taught', 787: 'train', 788: 'failed', 789: 'stolen', 790: 'mickey', 791: 'needs', 792: 'struck', 793: 'branch', 794: 'asleep', 795: 'apart', 796: 'donated', 797: 'slowly', 798: 'clearly', 799: '10', 800: 'reported', 801: 'street', 802: 'denied', 803: 'stand', 804: 'report', 805: 'done', 806: 'language', 807: 'without', 808: 'reports', 809: 'picked', 810: 'hurt', 811: 'tax', 812: \"here's\", 813: 'wiped', 814: \"guardian's\", 815: \"i'd\", 816: 'movie', 817: 'blew', 818: 'statue', 819: 'secretary', 820: 'carried', 821: 'tossed', 822: 'murdered', 823: 'umbrella', 824: 'ben', 825: 'examine', 826: 'pete', 827: 'blackwell', 828: 'soldier', 829: 'getting', 830: 'floor', 831: 'kitchen', 832: 'candidate', 833: 'awake', 834: 'idea', 835: 'flow', 836: 'goes', 837: 'bothers', 838: 'janet', 839: 'beat', 840: 'visit', 841: 'solved', 842: 'magazine', 843: 'politician', 844: 'press', 845: 'considers', 846: 'boat', 847: 'heart', 848: 'oak', 849: 'whole', 850: 'abroad', 851: 'intended', 852: 'noticed', 853: 'started', 854: 'thing', 855: 'short', 856: 'build', 857: 'speech', 858: 'statement', 859: 'sheila', 860: 'wash', 861: 'employer', 862: 'raining', 863: 'throw', 864: 'hot', 865: 'same', 866: 'razor', 867: 'shaved', 868: 'suddenly', 869: 'trees', 870: 'office', 871: 'shelf', 872: 'birds', 873: 'hour', 874: 'poured', 875: 'rabbit', 876: 'jennifer', 877: 'separated', 878: 'hunted', 879: 'investigated', 880: 'admired', 881: 'remained', 882: 'naughty', 883: 'soup', 884: 'diamond', 885: 'baked', 886: 'roses', 887: 'hoped', 888: 'advice', 889: 'head', 890: 'finished', 891: 'morning', 892: 'theory', 893: 'rely', 894: 'yet', 895: 'dentist', 896: 'candy', 897: 'parents', 898: 'inquired', 899: 'fiona', 900: 'jeff', 901: 'tuna', 902: 'churchill', 903: 'henri', 904: 'metal', 905: 'cave', 906: 'chocolate', 907: 'melted', 908: 'rained', 909: 'imagine', 910: 'expectations', 911: 'obnoxious', 912: 'plan', 913: 'arrested', 914: 'corruption', 915: 'paid', 916: 'vote', 917: 'wonders', 918: 'general', 919: 'understands', 920: 'sank', 921: 'great', 922: 'linguist', 923: 'remembered', 924: 'fine', 925: 'contains', 926: 'knocked', 927: 'main', 928: 'rice', 929: 'also', 930: 'lines', 931: 'meat', 932: 'returned', 933: 'public', 934: 'offer', 935: 'then', 936: 'decide', 937: 'decided', 938: 'lucy', 939: 'mag', 940: 'bother', 941: 'corner', 942: 'fort', 943: 'secret', 944: 'drives', 945: 'defendant', 946: 'dishes', 947: 'dried', 948: 'definitely', 949: 'grapes', 950: 'tune', 951: 'cheese', 952: 'until', 953: 'soldiers', 954: 'cuts', 955: 'cookies', 956: 'army', 957: 'vienna', 958: 'rock', 959: 'piece', 960: 'stupid', 961: 'barn', 962: 'pocket', 963: 'description', 964: 'hope', 965: 'jill', 966: 'london', 967: 'gives', 968: 'margaret', 969: 'crowd', 970: 'bus', 971: 'brenda', 972: 'cleared', 973: 'constructed', 974: 'grow', 975: 'praised', 976: 'hall', 977: 'lives', 978: 'buttered', 979: 'removed', 980: 'cold', 981: 'sea', 982: 'stream', 983: 'family', 984: 'needed', 985: 'strike', 986: 'anxious', 987: 'pass', 988: 'felt', 989: 'honest', 990: 'beaten', 991: 'salt', 992: 'kick', 993: 'hear', 994: 'caviar', 995: 'burns', 996: 'rory', 997: 'pilot', 998: 'lion', 999: 'sunday', 1000: 'lou', 1001: 'restaurant', 1002: 'dry', 1003: 'rope', 1004: 'nose', 1005: 'bank', 1006: 'shut', 1007: 'listens', 1008: 'grateful', 1009: 'depressed', 1010: 'says', 1011: \"he'll\", 1012: 'meets', 1013: 'tickets', 1014: 'call', 1015: 'buys', 1016: 'runs', 1017: 'resigned', 1018: \"haven't\", 1019: 'tonight', 1020: 'forgot', 1021: 'dropped', 1022: 'changed', 1023: 'snake', 1024: 'passed', 1025: 'received', 1026: 'beef', 1027: 'loaned', 1028: 'owners', 1029: 'beans', 1030: 'uncle', 1031: \"wouldn't\", 1032: 'already', 1033: 'everything', 1034: 'information', 1035: 'taste', 1036: 'relatives', 1037: 'married', 1038: 'bad', 1039: 'vase', 1040: 'figured', 1041: 'evidence', 1042: 'lawyer', 1043: 'phineas', 1044: 'set', 1045: 'movies', 1046: 'cops', 1047: 'sasha', 1048: 'contract', 1049: 'boring', 1050: 'light', 1051: 'end', 1052: 'war', 1053: 'wore', 1054: 'article', 1055: 'prouder', 1056: 'jim', 1057: 'studied', 1058: 'snowed', 1059: 'lived', 1060: 'used', 1061: 'writer', 1062: 'nor', 1063: 'neither', 1064: 'pen', 1065: 'shipped', 1066: 'felicia', 1067: 'halfway', 1068: 'robin', 1069: 'mind', 1070: 'music', 1071: 'sylvia', 1072: 'lodged', 1073: 'italy', 1074: 'russian', 1075: 'hammer', 1076: 'painting', 1077: 'prince', 1078: 'oil', 1079: 'slid', 1080: 'cheryl', 1081: 'brown', 1082: 'pelted', 1083: 'spanked', 1084: 'carrie', 1085: 'dorothy', 1086: 'sara', 1087: 'pizza', 1088: 'devoured', 1089: 'bent', 1090: 'times', 1091: 'sentences', 1092: 'standing', 1093: 'problems', 1094: 'stayed', 1095: 'teaching', 1096: 'humans', 1097: 'relies', 1098: 'spent', 1099: 'clever', 1100: 'built', 1101: 'driven', 1102: 'scholar', 1103: 'recommended', 1104: 'annoys', 1105: 'invaded', 1106: 'blood', 1107: 'poem', 1108: 'bitten', 1109: 'flavored', 1110: 'plane', 1111: 'majestic', 1112: 'elizabeth', 1113: 'elliott', 1114: 'sir', 1115: 'banana', 1116: 'truffles', 1117: 'plants', 1118: 'bathtub', 1119: 'forest', 1120: '5', 1121: 'barked', 1122: 'witch', 1123: 'sofa', 1124: 'along', 1125: 'higher', 1126: 'lower', 1127: 'hotel', 1128: 'becomes', 1129: 'smokes', 1130: 'longer', 1131: 'embarrassed', 1132: 'louise', 1133: 'records', 1134: 'sees', 1135: 'team', 1136: 'trouble', 1137: 'branches', 1138: 'caught', 1139: 'parcel', 1140: 'wind', 1141: 'completely', 1142: 'raw', 1143: 'collection', 1144: 'manuscripts', 1145: 'persuade', 1146: 'learn', 1147: 'weighed', 1148: 'criticism', 1149: 'josé', 1150: 'bring', 1151: \"shouldn't\", 1152: 'recounted', 1153: 'marathon', 1154: 'writers', 1155: 'blue', 1156: 'europe', 1157: 'speak', 1158: 'lady', 1159: 'guests', 1160: 'wrong', 1161: 'hundred', 1162: 'voted', 1163: 'bit', 1164: 'prescribes', 1165: 'height', 1166: 'lettering', 1167: 'covers', 1168: 'pleased', 1169: 'binoculars', 1170: 'brave', 1171: 'awful', 1172: 'squander', 1173: 'fellow', 1174: 'whisky', 1175: 'tore', 1176: 'use', 1177: 'tabs', 1178: 'strong', 1179: 'chairman', 1180: \"wasn't\", 1181: '100', 1182: 'roger', 1183: 'earth', 1184: 'doing', 1185: 'son', 1186: 'happiest', 1187: 'january', 1188: 'folk', 1189: 'sung', 1190: 'doctors', 1191: 'shoes', 1192: 'tough', 1193: 'sonatas', 1194: 'americans', 1195: 'jake', 1196: 'eye', 1197: 'square', 1198: 'lovely', 1199: 'cart', 1200: 'nibbled', 1201: 'museum', 1202: 'poked', 1203: 'volunteers', 1204: 'clown', 1205: 'sleeps', 1206: 'results', 1207: 'tuesday', 1208: 'heather', 1209: 'lydia', 1210: 'change', 1211: 'boxes', 1212: 'toast', 1213: 'drawer', 1214: 'palace', 1215: 'cupboard', 1216: 'contributed', 1217: 'summer', 1218: 'acorns', 1219: 'flyer', 1220: 'fainted', 1221: 'swam', 1222: 'pounds', 1223: '4', 1224: 'doubt', 1225: 'umpire', 1226: 'enjoyed', 1227: 'borrowed', 1228: 'broken', 1229: 'during', 1230: 'writing', 1231: 'argument', 1232: 'darkness', 1233: 'brilliant', 1234: 'again', 1235: 'relied', 1236: 'treaty', 1237: 'trust', 1238: 'own', 1239: 'conference', 1240: 'perhaps', 1241: 'marbles', 1242: 'mirror', 1243: 'fought', 1244: 'graduate', 1245: 'attacked', 1246: 'dragons', 1247: 'athena', 1248: 'seek', 1249: 'demonized', 1250: 'willing', 1251: 'alone', 1252: 'caused', 1253: 'wagon', 1254: 'vanished', 1255: 'finger', 1256: 'least', 1257: 'fatter', 1258: 'stakes', 1259: 'mine', 1260: 'articles', 1261: 'later', 1262: 'far', 1263: 'once', 1264: 'stories', 1265: 'wine', 1266: 'unhappy', 1267: 'seeing', 1268: 'unlikely', 1269: 'discussion', 1270: 'bubbled', 1271: 'bricks', 1272: 'valuable', 1273: 'probably', 1274: 'proclaimed', 1275: 'represented', 1276: 'dean', 1277: 'green', 1278: 'criticized', 1279: 'enjoy', 1280: 'taking', 1281: \"fred's\", 1282: 'lilly', 1283: 'attempt', 1284: 'lying', 1285: 'rusty', 1286: 'order', 1287: 'rome', 1288: 'oneself', 1289: 'named', 1290: 'teachers', 1291: 'admire', 1292: 'die', 1293: 'walking', 1294: 'polished', 1295: 'delicious', 1296: 'wife', 1297: 'tasty', 1298: 'blond', 1299: 'depends', 1300: 'reporters', 1301: 'loudly', 1302: 'loud', 1303: 'dislike', 1304: 'lied', 1305: 'herschel', 1306: 'confuse', 1307: 'guards', 1308: 'sometimes', 1309: 'scratched', 1310: 'usually', 1311: 'signed', 1312: 'onions', 1313: 'bike', 1314: 'hardest', 1315: '12th', 1316: 'telling', 1317: 'comes', 1318: 'covered', 1319: 'agree', 1320: 'grew', 1321: 'watch', 1322: 'thin', 1323: 'planned', 1324: 'hardly', 1325: 'janitor', 1326: 'robbery', 1327: 'terrible', 1328: 'swinger', 1329: 'lay', 1330: 'similar', 1331: 'beach', 1332: 'front', 1333: 'air', 1334: 'apples', 1335: 'mountain', 1336: 'taped', 1337: 'twig', 1338: 'detached', 1339: 'agreed', 1340: 'winner', 1341: 'blamed', 1342: 'clue', 1343: 'area', 1344: 'amused', 1345: 'horizon', 1346: 'mixture', 1347: 'post', 1348: 'scratches', 1349: 'counter', 1350: 'shoveled', 1351: 'presents', 1352: 'dough', 1353: 'loaf', 1354: 'megan', 1355: 'director', 1356: 'cabled', 1357: 'conferred', 1358: 'winked', 1359: 'sparkled', 1360: 'romans', 1361: 'rod', 1362: 'line', 1363: 'abandoned', 1364: 'comer', 1365: 'phone', 1366: 'avoid', 1367: 'equipment', 1368: 'hoping', 1369: 'offers', 1370: 'subject', 1371: 'yourselves', 1372: 'learning', 1373: 'birthday', 1374: 'miss', 1375: 'election', 1376: 'care', 1377: 'foxes', 1378: 'unclear', 1379: 'glad', 1380: 'nothing', 1381: 'approve', 1382: 'involved', 1383: 'sheep', 1384: 'group', 1385: 'medal', 1386: 'ideas', 1387: \"children's\", 1388: 'ill', 1389: 'clean', 1390: 'pencil', 1391: 'wondering', 1392: 'hidden', 1393: 'hunts', 1394: 'dr', 1395: 'wealthy', 1396: 'puppy', 1397: 'stacy', 1398: 'bars', 1399: 'waffles', 1400: 'kate', 1401: 'regretted', 1402: 'republican', 1403: '1000', 1404: 'coming', 1405: 'knightley', 1406: 'thomas', 1407: 'ayala', 1408: 'planted', 1409: \"mother's\", 1410: 'physics', 1411: \"lucy's\", 1412: 'evil', 1413: 'cuneiform', 1414: 'tablets', 1415: 'omnipotent', 1416: 'arranged', 1417: 'magic', 1418: 'giving', 1419: 'crazier', 1420: 'making', 1421: 'stairs', 1422: 'lake', 1423: 'yawned', 1424: 'worm', 1425: 'admires', 1426: 'exactly', 1427: 'mouth', 1428: 'keeps', 1429: 'fewer', 1430: 'suspected', 1431: 'marianne', 1432: 'cannot', 1433: 'hired', 1434: 'kathy', 1435: 'appointed', 1436: \"what's\", 1437: 'explained', 1438: 'sink', 1439: 'women', 1440: 'gary', 1441: 'collect', 1442: 'insurance', 1443: 'sunk', 1444: 'murderer', 1445: 'understood', 1446: 'issues', 1447: 'storm', 1448: 'serious', 1449: 'preferred', 1450: 'ions', 1451: 'contained', 1452: 'circuit', 1453: 'break', 1454: 'list', 1455: 'shot', 1456: 'intimately', 1457: 'impressed', 1458: 'hero', 1459: 'genuine', 1460: 'authorities', 1461: 'arriving', 1462: 'destruction', 1463: 'introduce', 1464: 'truman', 1465: 'eyes', 1466: 'material', 1467: 'helpful', 1468: 'tomatoes', 1469: 'introduced', 1470: 'single', 1471: 'invite', 1472: 'philosopher', 1473: 'seminar', 1474: 'surrounded', 1475: 'houses', 1476: 'prefers', 1477: 'between', 1478: 'law', 1479: 'rude', 1480: 'otto', 1481: 'pudding', 1482: 'amounts', 1483: '400', 1484: 'gift', 1485: 'feeling', 1486: 'hungry', 1487: 'sings', 1488: 'screw', 1489: 'comfortable', 1490: 'gobbling', 1491: 'dumplings', 1492: 'reheat', 1493: 'filing', 1494: 'sit', 1495: 'advantage', 1496: 'principal', 1497: 'badly', 1498: 'impossible', 1499: 'occurred', 1500: 'regret', 1501: 'ones', 1502: 'webster', 1503: 'sword', 1504: 'fun', 1505: 'another', 1506: 'sandra', 1507: 'begin', 1508: 'announced', 1509: 'wonderful', 1510: 'grade', 1511: \"we'll\", 1512: 'wears', 1513: 'department', 1514: 'none', 1515: 'particular', 1516: 'mountains', 1517: 'return', 1518: 'maria', 1519: 'fear', 1520: 'catherine', 1521: 'richard', 1522: 'small', 1523: 'farmer', 1524: 'blanket', 1525: 'kelly', 1526: 'celia', 1527: 'dressed', 1528: 'pulled', 1529: 'argued', 1530: 'bake', 1531: 'tamara', 1532: 'fingerprints', 1533: 'yolk', 1534: 'judge', 1535: 'needle', 1536: 'rummaged', 1537: 'penny', 1538: 'glass', 1539: 'plant', 1540: 'streets', 1541: 'chicago', 1542: 'smiled', 1543: 'market', 1544: 'funneled', 1545: 'equipped', 1546: 'camera', 1547: 'obtained', 1548: 'spare', 1549: 'part', 1550: 'gwen', 1551: 'michelle', 1552: 'frances', 1553: 'hid', 1554: 'fixed', 1555: 'shaped', 1556: 'documents', 1557: 'drying', 1558: 'raged', 1559: 'fluttered', 1560: 'echoed', 1561: 'provided', 1562: 'treats', 1563: 'tv', 1564: 'annoy', 1565: 'terrier', 1566: 'project', 1567: 'monday', 1568: 'safely', 1569: 'andrew', 1570: 'hide', 1571: 'garage', 1572: 'deposited', 1573: 'bird', 1574: 'photograph', 1575: 'oliver', 1576: 'cooking', 1577: 'stop', 1578: 'delighted', 1579: 'alan', 1580: 'thinking', 1581: 'upside', 1582: 'studying', 1583: 'fbi', 1584: 'examined', 1585: 'spoken', 1586: 'trade', 1587: 'chosen', 1588: 'note', 1589: 'plums', 1590: 'recommend', 1591: 'karen', 1592: 'actually', 1593: 'celebrity', 1594: 'twenty', 1595: 'dave', 1596: 'constantly', 1597: 'baseball', 1598: 'tigers', 1599: \"there's\", 1600: 'cauliflower', 1601: 'patrick', 1602: 'reluctant', 1603: 'begged', 1604: 'crime', 1605: 'giants', 1606: 'bully', 1607: 'spread', 1608: 'sauntered', 1609: 'fiancée', 1610: 'wickham', 1611: 'top', 1612: 'endorse', 1613: 'appreciates', 1614: 'nathan', 1615: 'football', 1616: 'gillian', 1617: 'gorgon', 1618: 'freed', 1619: 'yelled', 1620: 'leaked', 1621: 'exhaustion', 1622: 'rumbled', 1623: 'past', 1624: 'floated', 1625: 'cried', 1626: 'rang', 1627: 'silly', 1628: 'ted', 1629: 'wriggled', 1630: 'loose', 1631: 'demand', 1632: 'pays', 1633: 'tighter', 1634: 'ok', 1635: 'fancy', 1636: 'weather', 1637: 'happier', 1638: 'circumstances', 1639: 'louder', 1640: 'whenever', 1641: 'evening', 1642: 'succumb', 1643: 'simply', 1644: 'prove', 1645: 'worried', 1646: 'supported', 1647: 'works', 1648: 'improve', 1649: 'refused', 1650: 'electrode', 1651: 'pole', 1652: 'maple', 1653: 'rolling', 1654: 'soaked', 1655: 'logs', 1656: 'living', 1657: 'recited', 1658: 'beautifully', 1659: 'lions', 1660: 'chairs', 1661: 'sincerely', 1662: 'belief', 1663: 'alleged', 1664: 'bath', 1665: 'kissing', 1666: 'tuxedo', 1667: 'rifles', 1668: 'desire', 1669: 'things', 1670: 'exist', 1671: 'bright', 1672: \"hadn't\", 1673: 'discuss', 1674: 'discussing', 1675: 'radio', 1676: 'pretty', 1677: 'official', 1678: 'drugs', 1679: 'complete', 1680: 'tourists', 1681: 'queen', 1682: 'invited', 1683: 'worry', 1684: 'rat', 1685: 'mad', 1686: 'attributed', 1687: 'injured', 1688: 'friday', 1689: 'jealous', 1690: 'arch', 1691: \"tom's\", 1692: 'skyscraper', 1693: 'quonset', 1694: 'executed', 1695: 'peruse', 1696: 'crosses', 1697: 'gotten', 1698: 'politics', 1699: 'disliked', 1700: 'kill', 1701: 'fuzz', 1702: 'lettuce', 1703: '500', 1704: 'matches', 1705: 'swimming', 1706: 'forced', 1707: 'bomb', 1708: 'plate', 1709: 'realize', 1710: 'sat', 1711: 'feared', 1712: 'guitar', 1713: 'contented', 1714: 'generally', 1715: 'beginning', 1716: 'jackie', 1717: 'pine', 1718: 'upper', 1719: 'tastes', 1720: 'noise', 1721: 'headache', 1722: 'third', 1723: 'bench', 1724: 'grandfather', 1725: 'victims', 1726: 'moon', 1727: 'looks', 1728: 'pain', 1729: 'medicine', 1730: 'magician', 1731: 'bell', 1732: 'waved', 1733: 'craned', 1734: 'tessa', 1735: 'chatted', 1736: 'sign', 1737: 'cooks', 1738: 'key', 1739: 'sold', 1740: 'sky', 1741: 'whipped', 1742: 'acorn', 1743: 'sugar', 1744: 'inscribed', 1745: 'searched', 1746: 'rachel', 1747: 'praise', 1748: 'price', 1749: 'middle', 1750: 'treasure', 1751: 'unsalted', 1752: 'meant', 1753: 'edna', 1754: 'coiled', 1755: 'employees', 1756: 'lora', 1757: 'banished', 1758: 'among', 1759: 'furniture', 1760: 'paris', 1761: 'drive', 1762: 'moment', 1763: 'flies', 1764: 'chisel', 1765: 'notes', 1766: 'beautiful', 1767: 'sandwich', 1768: 'spot', 1769: 'amuse', 1770: 'hunting', 1771: 'situation', 1772: 'selling', 1773: 'peach', 1774: 'carrot', 1775: 'gobbled', 1776: 'famous', 1777: 'flag', 1778: 'cry', 1779: 'valley', 1780: 'lecture', 1781: 'rowed', 1782: 'lunch', 1783: 'double', 1784: 'visiting', 1785: 'chemical', 1786: 'interesting', 1787: 'leader', 1788: 'sounded', 1789: 'bananas', 1790: 'squirrel', 1791: 'favorite', 1792: 'stinks', 1793: 'depend', 1794: 'copy', 1795: 'march', 1796: 'hypothesis', 1797: 'senators', 1798: 'lie', 1799: 'checking', 1800: 'account', 1801: 'jury', 1802: 'reply', 1803: 'answers', 1804: 'speaking', 1805: 'forgotten', 1806: 'independence', 1807: 'elephants', 1808: 'respect', 1809: 'defendants', 1810: 'catch', 1811: 'counting', 1812: 'swim', 1813: 'four', 1814: 'dollars', 1815: 'thirst', 1816: 'cars', 1817: 'weight', 1818: 'thanked', 1819: 'irritating', 1820: 'kevin', 1821: 'drinking', 1822: 'position', 1823: 'heads', 1824: 'rosie', 1825: 'essay', 1826: 'sorry', 1827: 'iraq', 1828: 'using', 1829: 'interviewed', 1830: 'absolutely', 1831: 'orange', 1832: '6', 1833: 'vegetables', 1834: 'tucson', 1835: 'walks', 1836: 'spider', 1837: 'daniel', 1838: 'phonology', 1839: 'rather', 1840: 'bagels', 1841: 'greatly', 1842: 'disgruntled', 1843: 'polarity', 1844: 'scene', 1845: 'dodgers', 1846: 'sox', 1847: 'jeeves', 1848: 'fairfax', 1849: 'eloped', 1850: 'wentworth', 1851: 'travelled', 1852: 'larry', 1853: 'enthusiastically', 1854: 'intense', 1855: \"o'clock\", 1856: 'alienated', 1857: 'incriminate', 1858: 'waiting', 1859: 'yes', 1860: 'actor', 1861: 'dracula', 1862: 'spell', 1863: 'phoenix', 1864: 'intoned', 1865: 'achilles', 1866: 'homer', 1867: 'perseus', 1868: 'aster', 1869: 'neutralised', 1870: 'hera', 1871: 'attempted', 1872: 'frantically', 1873: 'yell', 1874: 'noisy', 1875: 'neighborhood', 1876: 'dumb', 1877: 'watered', 1878: 'hammered', 1879: 'critics', 1880: 'monster', 1881: 'wide', 1882: 'pulley', 1883: 'tiger', 1884: 'shocked', 1885: 'lock', 1886: 'geniuses', 1887: 'wait', 1888: 'finally', 1889: 'buzz', 1890: 'taxes', 1891: \"''\", 1892: 'support', 1893: 'surprising', 1894: 'unknown', 1895: 'fail', 1896: 'successful', 1897: 'happens', 1898: 'tends', 1899: 'bush', 1900: 'reached', 1901: 'bear', 1902: 'tub', 1903: 'sidewalk', 1904: 'gas', 1905: 'prison', 1906: 'avoided', 1907: 'emptied', 1908: 'blocked', 1909: 'kettle', 1910: 'spray', 1911: 'rub', 1912: 'torn', 1913: 'smashed', 1914: 'widow', 1915: 'moved', 1916: 'seriously', 1917: 'conclusively', 1918: 'coffee', 1919: 'doubtful', 1920: 'strangers', 1921: 'haunted', 1922: 'shocking', 1923: 'laugh', 1924: 'figure', 1925: 'caspar', 1926: 'asks', 1927: \"joe's\", 1928: \"sally's\", 1929: 'bartender', 1930: 'god', 1931: 'christmas', 1932: 'turn', 1933: 'jerry', 1934: 'suggested', 1935: 'thorough', 1936: 'sinking', 1937: 'devious', 1938: 'readable', 1939: 'worrying', 1940: 'pretend', 1941: 'describe', 1942: 'gun', 1943: 'cleaned', 1944: 'mentioned', 1945: 'explosion', 1946: 'costly', 1947: 'remain', 1948: 'watching', 1949: 'term', 1950: 'watched', 1951: 'prisoners', 1952: 'recursive', 1953: 'semantics', 1954: 'real', 1955: 'trombone', 1956: 'computed', 1957: 'fiat', 1958: 'shirts', 1959: 'hut', 1960: 'billy', 1961: 'suzie', 1962: 'prepare', 1963: 'chess', 1964: 'exploded', 1965: 'curtain', 1966: 'greek', 1967: 'betrayed', 1968: 'elect', 1969: 'mysterious', 1970: 'manner', 1971: 'hudson', 1972: 'route', 1973: '150', 1974: 'rights', 1975: 'notice', 1976: 'hold', 1977: 'kinds', 1978: 'fedora', 1979: 'tickling', 1980: 'investigating', 1981: 'chat', 1982: 'winston', 1983: 'bacon', 1984: 'feels', 1985: 'nominated', 1986: 'string', 1987: 'maggie', 1988: 'power', 1989: 'bridge', 1990: 'writes', 1991: 'began', 1992: 'announce', 1993: 'guess', 1994: 'expensive', 1995: 'deer', 1996: \"they're\", 1997: 'accompanied', 1998: 'downtown', 1999: 'stay', 2000: 'cow', 2001: 'holding', 2002: 'gently', 2003: 'bartlett', 2004: 'toni', 2005: 'type', 2006: 'playwright', 2007: 'deny', 2008: 'admitted', 2009: 'base', 2010: 'carson', 2011: 'towards', 2012: 'telegram', 2013: 'fresh', 2014: 'paying', 2015: 'manuscript', 2016: 'partway', 2017: 'behavior', 2018: 'makes', 2019: 'lemonade', 2020: 'crystal', 2021: 'touch', 2022: 'pounded', 2023: 'heat', 2024: 'face', 2025: 'brushed', 2026: 'cathy', 2027: 'skating', 2028: 'bites', 2029: 'climbed', 2030: 'skated', 2031: 'canals', 2032: 'bowl', 2033: 'cattle', 2034: 'frog', 2035: 'label', 2036: 'alternate', 2037: 'mira', 2038: 'shin', 2039: 'dedication', 2040: 'ticket', 2041: 'audience', 2042: 'stuffed', 2043: 'yard', 2044: 'entered', 2045: 'pocketed', 2046: 'boned', 2047: 'waltzed', 2048: 'cora', 2049: 'staffed', 2050: 'tabletop', 2051: 'bushes', 2052: 'dale', 2053: 'pamela', 2054: 'paycheck', 2055: \"bloomingdale's\", 2056: 'diana', 2057: '50', 2058: 'exchanged', 2059: 'held', 2060: 'banged', 2061: 'marble', 2062: 'carves', 2063: 'clung', 2064: 'egg', 2065: 'winter', 2066: 'printed', 2067: 'record', 2068: 'donna', 2069: 'peered', 2070: 'closet', 2071: 'haggled', 2072: 'wanda', 2073: 'melons', 2074: 'lunched', 2075: 'munched', 2076: 'teresa', 2077: 'shivered', 2078: 'itching', 2079: 'pounding', 2080: 'clad', 2081: 'caesar', 2082: 'murder', 2083: 'jewels', 2084: 'reeked', 2085: 'gushed', 2086: 'builders', 2087: 'warehouse', 2088: 'soared', 2089: \"parker's\", 2090: 'fields', 2091: 'jefferson', 2092: 'convict', 2093: 'rose', 2094: 'billed', 2095: 'p', 2096: 'm', 2097: 'tool', 2098: 'jobs', 2099: 'jeopardy', 2100: 'interest', 2101: 'telescope', 2102: 'happily', 2103: 'claims', 2104: 'cakes', 2105: 'truth', 2106: 'factors', 2107: 'county', 2108: 'genius', 2109: 'frightens', 2110: 'doll', 2111: 'understand', 2112: 'safe', 2113: 'holiday', 2114: 'easter', 2115: 'ahead', 2116: 'bat', 2117: 'issue', 2118: 'awarded', 2119: 'senior', 2120: 'course', 2121: 'scientists', 2122: 'busy', 2123: 'tired', 2124: 'clinton', 2125: 'attorney', 2126: 'drawing', 2127: 'knowing', 2128: 'chickens', 2129: 'consult', 2130: 'sound', 2131: 'outrageous', 2132: 'cohen', 2133: 'continuum', 2134: 'concentrate', 2135: 'travel', 2136: 'rules', 2137: 'fifteen', 2138: 'dealt', 2139: 'dying', 2140: 'lead', 2141: 'dark', 2142: 'dislikes', 2143: 'plans', 2144: 'nerve', 2145: 'transmission', 2146: 'duty', 2147: 'grant', 2148: 'tagalog', 2149: 'philippines', 2150: 'leaking', 2151: 'thirty', 2152: 'mayor', 2153: '20', 2154: 'pavarotti', 2155: 'loren', 2156: 'bond', 2157: 'hepburn', 2158: 'huge', 2159: 'poet', 2160: 'protect', 2161: 'select', 2162: 'pile', 2163: '12', 2164: 'foolish', 2165: 'grows', 2166: 'experts', 2167: 'teach', 2168: 'patient', 2169: 'accepted', 2170: 'bark', 2171: 'chinese', 2172: 'barks', 2173: 'hunt', 2174: 'opinion', 2175: 'steak', 2176: 'proves', 2177: 'mush', 2178: 'stuff', 2179: 'errors', 2180: 'zucchini', 2181: 'bucket', 2182: 'ads', 2183: 'alina', 2184: 'erin', 2185: 'profits', 2186: 'guys', 2187: 'sincerity', 2188: 'iceland', 2189: 'rode', 2190: 'quietly', 2191: 'baker', 2192: 'frightened', 2193: 'intensely', 2194: 'stripes', 2195: 'wednesday', 2196: 'minister', 2197: 'kerry', 2198: 'michael', 2199: 'matt', 2200: 'flute', 2201: 'treat', 2202: 'phillip', 2203: 'muffin', 2204: 'slapping', 2205: 'martial', 2206: 'arts', 2207: 'broccoli', 2208: 'behave', 2209: 'allowed', 2210: 'dated', 2211: 'fund', 2212: 'items', 2213: 'felix', 2214: 'talkative', 2215: 'kennel', 2216: 'rosa', 2217: 'club', 2218: 'ethel', 2219: 'accountants', 2220: 'saved', 2221: 'hartfield', 2222: 'willoughby', 2223: 'vehicles', 2224: \"d'arcy\", 2225: 'tower', 2226: 'commuters', 2227: 'lorry', 2228: 'bennet', 2229: 'yates', 2230: 'de', 2231: 'bourg', 2232: 'possibly', 2233: 'jonathan', 2234: 'chewed', 2235: 'necklace', 2236: 'lemming', 2237: 'annoyed', 2238: 'biscuit', 2239: 'tess', 2240: 'conservative', 2241: 'alienates', 2242: 'swansong', 2243: '11', 2244: 'tea', 2245: 'edition', 2246: 'iii', 2247: 'niece', 2248: 'nine', 2249: 'microsoft', 2250: 'indeed', 2251: 'sweat', 2252: 'hospital', 2253: 'emily', 2254: 'number', 2255: 'ditches', 2256: 'vampire', 2257: 'odysseus', 2258: 'schubert', 2259: '0', 2260: 'pasta', 2261: 'maintained', 2262: 'pig', 2263: 'raffi', 2264: 'wise', 2265: 'author', 2266: 'attracted', 2267: 'appoint', 2268: \"max's\", 2269: 'newsstands', 2270: \"we're\", 2271: 'pond', 2272: 'solid', 2273: 'pieces', 2274: 'hoarse', 2275: 'bled', 2276: 'trail', 2277: 'stretched', 2278: 'weights', 2279: 'correspondingly', 2280: 'entirely', 2281: 'explain', 2282: 'lots', 2283: 'helped', 2284: 'words', 2285: 'worded', 2286: 'opens', 2287: 'arrogant', 2288: 'gasped', 2289: 'fast', 2290: 'succumbed', 2291: 'sort', 2292: 'quicker', 2293: 't', 2294: \"aren't\", 2295: 'assistant', 2296: 'journalist', 2297: 'view', 2298: 'lies', 2299: 'clouds', 2300: 'developed', 2301: 'midnight', 2302: 'farm', 2303: 'basement', 2304: 'terrorist', 2305: 'stones', 2306: 'tapped', 2307: 'barrel', 2308: 'fully', 2309: 'full', 2310: 'business', 2311: 'location', 2312: 'miami', 2313: 'close', 2314: 'painted', 2315: 'resembles', 2316: 'pompous', 2317: 'mistaken', 2318: 'cruel', 2319: 'illegal', 2320: 'horrific', 2321: 'discussed', 2322: 'reviewed', 2323: 'betsy', 2324: 'crown', 2325: 'exists', 2326: 'neuroses', 2327: 'patrons', 2328: 'eggplants', 2329: 'china', 2330: 'national', 2331: \"problem's\", 2332: 'moral', 2333: 'certainly', 2334: 'german', 2335: '1492', 2336: 'impeccable', 2337: 'planet', 2338: 'filed', 2339: \"other's\", 2340: 'lemons', 2341: 'limes', 2342: 'toward', 2343: 'railroad', 2344: 'worn', 2345: 'shock', 2346: 'dismissed', 2347: 'state', 2348: '60', 2349: 'insist', 2350: 'drowning', 2351: 'shooting', 2352: 'maxime', 2353: 'rutherford', 2354: 'horror', 2355: 'sheriff', 2356: '40', 2357: 'progress', 2358: 'officer', 2359: 'plumber', 2360: 'polish', 2361: 'ruined', 2362: 'holds', 2363: 'belongs', 2364: 'adores', 2365: 'final', 2366: 'captured', 2367: 'nut', 2368: 'meatballs', 2369: 'deed', 2370: 'suspect', 2371: 'abolished', 2372: 'authors', 2373: 'tnt', 2374: 'difficulties', 2375: 'objection', 2376: 'rare', 2377: 'boss', 2378: 'crusty', 2379: 'jerk', 2380: 'owning', 2381: 'mao', 2382: 'tasted', 2383: 'ups', 2384: 'harvey', 2385: 'insensitive', 2386: 'grass', 2387: 'romeo', 2388: 'juliet', 2389: 'raise', 2390: 'hands', 2391: 'dances', 2392: 'realizes', 2393: 'al', 2394: 'confessed', 2395: 'finds', 2396: 'hills', 2397: 'fair', 2398: 'wilt', 2399: 'admit', 2400: 'games', 2401: 'tight', 2402: 'neighbor', 2403: 'driveway', 2404: \"who's\", 2405: 'following', 2406: 'register', 2407: \"jack's\", 2408: \"quilt's\", 2409: 'blemish', 2410: \"sister's\", 2411: 'error', 2412: 'yellow', 2413: 'yelling', 2414: 'travelers', 2415: 'robbed', 2416: 'carry', 2417: 'misgivings', 2418: 'pinched', 2419: 'bald', 2420: 'leigh', 2421: 'porch', 2422: 'america', 2423: 'start', 2424: 'promise', 2425: 'fortune', 2426: 'lewis', 2427: 'copied', 2428: 'alex', 2429: 'norman', 2430: \"nixon's\", 2431: 'festive', 2432: 'interview', 2433: 'monica', 2434: 'pitcher', 2435: 'dumped', 2436: 'shoulder', 2437: 'sprained', 2438: 'oven', 2439: 'minutes', 2440: 'spaceship', 2441: 'cured', 2442: 'pneumonia', 2443: 'confused', 2444: 'alternated', 2445: 'pop', 2446: 'ballets', 2447: 'decorated', 2448: 'ida', 2449: 'melissa', 2450: 'stalked', 2451: 'bombs', 2452: 'inspector', 2453: 'analyzed', 2454: \"building's\", 2455: 'soundness', 2456: 'sensed', 2457: 'eagerness', 2458: 'honesty', 2459: 'angela', 2460: 'shelly', 2461: 'seafarer', 2462: 'established', 2463: 'wheat', 2464: 'bakes', 2465: 'laws', 2466: 'washington', 2467: 'flowering', 2468: 'windowsill', 2469: 'ancient', 2470: 'trove', 2471: 'ugly', 2472: 'aria', 2473: 'beamed', 2474: 'bloomed', 2475: 'teapot', 2476: 'pupils', 2477: 'rumored', 2478: 'rumor', 2479: 'magazines', 2480: 'winds', 2481: 'wiping', 2482: 'plaque', 2483: 'rail', 2484: 'twigs', 2485: 'differed', 2486: 'spring', 2487: 'phyllis', 2488: 'transcribed', 2489: 'conflict', 2490: 'declared', 2491: 'cousin', 2492: 'thrill', 2493: 'skills', 2494: 'sunny', 2495: 'complained', 2496: 'soy', 2497: 'exhaled', 2498: 'gloria', 2499: 'flinched', 2500: 'sight', 2501: 'drowned', 2502: 'smoke', 2503: 'marlene', 2504: 'body', 2505: 'julius', 2506: 'bandits', 2507: 'magnificent', 2508: 'lights', 2509: 'hallway', 2510: 'ticked', 2511: 'clock', 2512: 'dryer', 2513: 'striped', 2514: 'aquarium', 2515: 'bulging', 2516: 'groceries', 2517: 'borders', 2518: 'motorist', 2519: 'lingered', 2520: 'hurried', 2521: 'completed', 2522: 'assignment', 2523: 'sentence', 2524: 'armchair', 2525: 'suggestions', 2526: 'suggestion', 2527: 'recent', 2528: 'deal', 2529: 'lincoln', 2530: 'university', 2531: 'scientific', 2532: 'understanding', 2533: '–', 2534: 'approved', 2535: 'pies', 2536: 'second', 2537: 'arrange', 2538: 'categories', 2539: 'upon', 2540: 'spend', 2541: 'award', 2542: 'web', 2543: 'tagged', 2544: 'effectiveness', 2545: 'girlfriend', 2546: 'fears', 2547: 'cds', 2548: 'publisher', 2549: 'reminded', 2550: 'cancelled', 2551: 'incredibly', 2552: 'flew', 2553: 'refrigerator', 2554: 'accusation', 2555: 'un', 2556: 'locked', 2557: 'jogs', 2558: 'photo', 2559: 'sketch', 2560: 'health', 2561: 'charles', 2562: 'process', 2563: 'korean', 2564: 'compatible', 2565: 'bottles', 2566: 'approval', 2567: 'accountant', 2568: 'beth', 2569: 'desirable', 2570: 'remove', 2571: 'outcome', 2572: 'mail', 2573: 'aware', 2574: 'constant', 2575: 'studies', 2576: 'delivered', 2577: 'address', 2578: 'garbage', 2579: 'maths', 2580: \"plato's\", 2581: 'characters', 2582: 'twelfth', 2583: 'chili', 2584: 'finances', 2585: 'listened', 2586: 'flood', 2587: 'land', 2588: 'doorway', 2589: 'collected', 2590: 'special', 2591: 'diamonds', 2592: 'art', 2593: 'carnations', 2594: 'example', 2595: 'substances', 2596: 'reach', 2597: 'gods', 2598: 'wishes', 2599: 'warm', 2600: 'september', 2601: 'mailbox', 2602: 'lawn', 2603: 'substance', 2604: 'absent', 2605: 'aggressive', 2606: 'interrogated', 2607: 'since', 2608: 'share', 2609: 'achieved', 2610: 'statesman', 2611: 'scarcely', 2612: 'worth', 2613: 'mentioning', 2614: 'executive', 2615: 'policy', 2616: 'driving', 2617: 'model', 2618: 'nearly', 2619: 'widely', 2620: 'closing', 2621: 'twice', 2622: 'thoroughly', 2623: 'document', 2624: 'determined', 2625: 'imagined', 2626: 'visits', 2627: 'shoe', 2628: 'video', 2629: 'terrific', 2630: 'foot', 2631: 'bothered', 2632: 'teams', 2633: 'laughs', 2634: 'cast', 2635: 'cause', 2636: 'latest', 2637: 'inconvenience', 2638: 'chomsky', 2639: 'objective', 2640: 'owe', 2641: 'tended', 2642: 'license', 2643: 'consulted', 2644: 'concert', 2645: 'calculus', 2646: 'grandma', 2647: 'responsible', 2648: 'prepared', 2649: 'cows', 2650: 'daily', 2651: 'sympathy', 2652: 'urban', 2653: 'guerillas', 2654: 'continued', 2655: 'whined', 2656: 'disturbed', 2657: 'liberty', 2658: 'pleasant', 2659: 'date', 2660: 'shower', 2661: 'alike', 2662: \"you've\", 2663: 'formidable', 2664: 'gossip', 2665: 'dozen', 2666: 'smarter', 2667: 'hilda', 2668: 'eminent', 2669: 'drew', 2670: 'carrots', 2671: 'leather', 2672: 'assassination', 2673: 'leah', 2674: 'charity', 2675: 'readings', 2676: 'catnip', 2677: 'dollar', 2678: 'sweater', 2679: 'discovered', 2680: 'shannon', 2681: 'jig', 2682: 'satisfies', 2683: 'yearbook', 2684: 'spaghetti', 2685: 'performers', 2686: 'fabio', 2687: 'claus', 2688: 'centaur', 2689: 'rosemary', 2690: 'jennie', 2691: 'traci', 2692: 'angus', 2693: 'basket', 2694: 'chase', 2695: 'sauteed', 2696: 'canes', 2697: 'torpedo', 2698: 'becky', 2699: 'reveal', 2700: 'supermarket', 2701: 'clay', 2702: 'essential', 2703: 'dream', 2704: 'brandon', 2705: 'except', 2706: 'salad', 2707: \"week's\", 2708: 'rally', 2709: 'petition', 2710: 'gulf', 2711: 'whoever', 2712: 'powerful', 2713: 'answered', 2714: 'fur', 2715: 'marked', 2716: 'program', 2717: 'pledge', 2718: 'wins', 2719: 'horses', 2720: 'luxemburg', 2721: 'maisie', 2722: 'morningside', 2723: 'leith', 2724: 'barbara', 2725: 'vera', 2726: 'trotted', 2727: 'burglar', 2728: 'savaged', 2729: \"burglar's\", 2730: 'ankles', 2731: 'bates', 2732: 'woodhouse', 2733: 'eleanor', 2734: 'edmund', 2735: 'cottage', 2736: 'dashwood', 2737: 'rejected', 2738: 'others', 2739: 'collins', 2740: 'arthur', 2741: 'stubbs', 2742: 'marched', 2743: 'ireland', 2744: 'questions', 2745: 'golfers', 2746: 'st', 2747: 'chopping', 2748: 'climbers', 2749: 'deliberately', 2750: 'buying', 2751: 'british', 2752: 'idiot', 2753: 'perspectives', 2754: 'breakfast', 2755: 'unusual', 2756: 'listen', 2757: 'thawed', 2758: 'roast', 2759: 'sums', 2760: 'england', 2761: 'deadly', 2762: 'quit', 2763: 'gentle', 2764: 'spy', 2765: 'nephew', 2766: 'mattered', 2767: \"neighbor's\", 2768: 'excessive', 2769: 'appreciation', 2770: 'smart', 2771: 'tears', 2772: 'desert', 2773: \"gomez's\", 2774: 'wallet', 2775: 'bound', 2776: 'lloyd', 2777: 'defeat', 2778: 'casting', 2779: 'chalice', 2780: 'genie', 2781: 'mango', 2782: 'oration', 2783: 'philip', 2784: 'collapsed', 2785: 'slain', 2786: 'sirens', 2787: 'burn', 2788: 'flawed', 2789: 'moya', 2790: 'honey', 2791: 'biology', 2792: 'helicopters', 2793: 'pugsley', 2794: 'interested', 2795: 'maniac', 2796: 'eagle', 2797: 'macaroni', 2798: 'bears', 2799: 'goddess', 2800: 'golden', 2801: 'reason', 2802: 'administration', 2803: 'issued', 2804: 'albania', 2805: 'tug', 2806: 'orders', 2807: 'tardy', 2808: 'pseudo', 2809: 'generalization', 2810: 'verbs', 2811: 'stage', 2812: 'froze', 2813: 'pub', 2814: 'whistled', 2815: 'wider', 2816: 'squeezed', 2817: 'puppet', 2818: 'death', 2819: 'breath', 2820: 'carpet', 2821: 'shook', 2822: 'fat', 2823: 'answering', 2824: 'destroying', 2825: 'wherever', 2826: 'hurricane', 2827: 'discover', 2828: 'poorer', 2829: 'safer', 2830: 'word', 2831: 'richer', 2832: 'current', 2833: 'spends', 2834: 'courage', 2835: 'competition', 2836: 'survived', 2837: 'kisses', 2838: 'da', 2839: 'guilty', 2840: 'shows', 2841: 'sells', 2842: 'worries', 2843: 'mistake', 2844: 'probable', 2845: 'reference', 2846: 'teamed', 2847: 'pointed', 2848: 'slips', 2849: 'criticizes', 2850: 'unmade', 2851: 'headway', 2852: 'effort', 2853: 'riot', 2854: 'polite', 2855: 'medium', 2856: 'gradually', 2857: 'cedar', 2858: 'grades', 2859: 'electric', 2860: 'tube', 2861: 'cell', 2862: 'lesson', 2863: 'litigation', 2864: 'barge', 2865: 'piled', 2866: 'bare', 2867: 'liquid', 2868: 'hail', 2869: 'included', 2870: 'stamp', 2871: 'pad', 2872: 'tank', 2873: 'regards', 2874: 'strange', 2875: 'creepy', 2876: 'scarf', 2877: 'lose', 2878: 'succeeded', 2879: 'poorly', 2880: 'rest', 2881: 'resembled', 2882: 'lb', 2883: 'grocer', 2884: 'managed', 2885: 'desired', 2886: 'wagered', 2887: 'stranger', 2888: 'detest', 2889: \"enemy's\", 2890: \"holly's\", 2891: 'questioned', 2892: 'arrest', 2893: 'decision', 2894: 'wildwood', 2895: 's', 2896: 'bar', 2897: 'oscar', 2898: 'dulles', 2899: 'angleton', 2900: 'doc', 2901: 'wish', 2902: 'dogged', 2903: 'charges', 2904: 'infidelity', 2905: 'artist', 2906: 'carthage', 2907: 'perception', 2908: 'knowledge', 2909: \"ship's\", 2910: 'testing', 2911: 'risky', 2912: 'drug', 2913: \"president's\", 2914: 'museums', 2915: 'critic', 2916: 'proposed', 2917: 'stiff', 2918: 'relieved', 2919: 'earl', 2920: 'garish', 2921: 'submit', 2922: 'whining', 2923: 'acquainted', 2924: 'india', 2925: 'wastebasket', 2926: 'dartmouth', 2927: 'wreck', 2928: 'passengers', 2929: 'rescue', 2930: 'gangsters', 2931: 'bribed', 2932: 'squandered', 2933: \"sarah's\", 2934: 'snooze', 2935: 'shove', 2936: 'myron', 2937: 'claiming', 2938: \"you're\", 2939: 'flip', 2940: 'screamed', 2941: 'lute', 2942: 'madrigals', 2943: 'hefty', 2944: 'yearns', 2945: 'excellent', 2946: 'hattie', 2947: 'granny', 2948: 'frame', 2949: 'luscious', 2950: 'chick', 2951: 'wed', 2952: 'ere', 2953: 'morn', 2954: 'ferrari', 2955: 'pietro', 2956: 'sofia', 2957: 'bundle', 2958: 'turnips', 2959: 'embraced', 2960: 'maternal', 2961: 'priscilla', 2962: 'wallpaper', 2963: 'invariably', 2964: 'waste', 2965: 'funds', 2966: 'vain', 2967: 'geezer', 2968: 'points', 2969: 'carelessly', 2970: 'buses', 2971: 'aunts', 2972: 'calculated', 2973: 'suspense', 2974: 'month', 2975: 'track', 2976: 'simultaneously', 2977: 'length', 2978: 'negotiate', 2979: 'honorable', 2980: 'vietnam', 2981: 'indiscretions', 2982: 'persons', 2983: 'faith', 2984: 'surprisingly', 2985: 'charge', 2986: 'confident', 2987: 'faculty', 2988: 'quipped', 2989: 'tickle', 2990: 'parakeets', 2991: 'cages', 2992: 'wire', 2993: 'convicts', 2994: 'efficient', 2995: 'catastrophic', 2996: 'akron', 2997: 'convince', 2998: 'buffy', 2999: 'push', 3000: 'johns', 3001: 'fallen', 3002: 'waxed', 3003: \"people's\", 3004: 'desires', 3005: 'slide', 3006: 'regard', 3007: 'pilots', 3008: 'chop', 3009: 'expects', 3010: 'acknowledge', 3011: 'realized', 3012: 'surprises', 3013: 'gloves', 3014: 'psychologist', 3015: 'painfully', 3016: 'evident', 3017: 'hikers', 3018: 'hoboken', 3019: 'hank', 3020: 'arrangements', 3021: 'ernie', 3022: 'lawyers', 3023: 'pretended', 3024: 'becoming', 3025: 'grading', 3026: 'voice', 3027: 'expecting', 3028: 'increased', 3029: 'helping', 3030: 'sodium', 3031: 'peppy', 3032: 'mixing', 3033: 'teacup', 3034: 'teaspoon', 3035: 'squeeze', 3036: 'jacket', 3037: 'marcia', 3038: 'inspect', 3039: 'bunk', 3040: 'checkers', 3041: 'moscow', 3042: 'late', 3043: 'warden', 3044: 'brings', 3045: 'cia', 3046: 'lousy', 3047: 'allow', 3048: 'enrico', 3049: 'smartest', 3050: 'seconds', 3051: 'quilt', 3052: 'holes', 3053: \"jerry's\", 3054: 'collar', 3055: 'potato', 3056: 'annabelle', 3057: 'confirmed', 3058: 'confirm', 3059: 'allege', 3060: 'waldo', 3061: 'machetes', 3062: 'crops', 3063: 'playwrights', 3064: \"ed's\", 3065: 'abernathy', 3066: 'lane', 3067: 'storeroom', 3068: 'antarctic', 3069: 'spunky', 3070: 'kid', 3071: 'baseman', 3072: 'envied', 3073: 'forgive', 3074: 'comment', 3075: 'instead', 3076: 'overhead', 3077: 'blair', 3078: 'mailer', 3079: 'salesman', 3080: 'devil', 3081: 'butcher', 3082: 'breaks', 3083: 'fabrics', 3084: 'pound', 3085: 'scientist', 3086: 'rats', 3087: 'maze', 3088: 'pedestal', 3089: 'schoolhouse', 3090: 'radiates', 3091: 'braided', 3092: 'hugged', 3093: 'lamppost', 3094: 'touches', 3095: 'phenomenon', 3096: 'machine', 3097: 'protects', 3098: '30', 3099: 'revolves', 3100: 'architect', 3101: 'selected', 3102: 'couple', 3103: 'june', 3104: 'bees', 3105: 'swarming', 3106: 'pasture', 3107: 'herding', 3108: 'froth', 3109: 'puddle', 3110: 'vinegar', 3111: 'saddled', 3112: 'condemned', 3113: 'sought', 3114: 'selina', 3115: \"penny's\", 3116: 'ribs', 3117: 'toe', 3118: 'terrified', 3119: 'mindedness', 3120: 'antics', 3121: \"clown's\", 3122: 'characterized', 3123: 'lifesaver', 3124: 'era', 3125: 'spoon', 3126: 'innocence', 3127: 'pail', 3128: 'flour', 3129: 'contractor', 3130: 'benefit', 3131: 'gain', 3132: 'butler', 3133: 'silver', 3134: 'watches', 3135: 'melts', 3136: 'sliced', 3137: 'mushrooms', 3138: 'columbus', 3139: 'pirate', 3140: 'darted', 3141: 'choir', 3142: 'church', 3143: 'pauline', 3144: 'cheerful', 3145: 'welcome', 3146: 'mumbled', 3147: 'jungle', 3148: 'silversmith', 3149: 'stove', 3150: 'soles', 3151: 'philippa', 3152: 'willa', 3153: 'breathless', 3154: 'perjured', 3155: 'neck', 3156: 'budge', 3157: 'rina', 3158: 'funnels', 3159: 'fortress', 3160: 'inside', 3161: 'shoveling', 3162: 'mopped', 3163: 'cheated', 3164: 'mined', 3165: \"'s\", 3166: 'shirt', 3167: 'squirrels', 3168: 'deirdre', 3169: \"deirdre's\", 3170: 'sticks', 3171: 'carts', 3172: 'thumb', 3173: 'soap', 3174: 'detaches', 3175: 'schedule', 3176: 'annealing', 3177: 'rings', 3178: 'scribbled', 3179: 'scribbling', 3180: 'toys', 3181: 'leftovers', 3182: 'engenders', 3183: 'conjectured', 3184: 'appointee', 3185: 'dina', 3186: 'posed', 3187: 'mona', 3188: 'lisa', 3189: 'spotted', 3190: 'joke', 3191: 'fails', 3192: 'paintings', 3193: 'costume', 3194: 'traffic', 3195: 'fork', 3196: 'breathed', 3197: 'agreement', 3198: 'princess', 3199: 'bowed', 3200: 'dozed', 3201: 'sailor', 3202: 'sailors', 3203: 'ankle', 3204: 'hunger', 3205: 'chin', 3206: 'purple', 3207: 'spruced', 3208: 'brutus', 3209: 'squeaked', 3210: 'fragrant', 3211: 'stew', 3212: 'destroy', 3213: 'ruins', 3214: 'ruin', 3215: 'capital', 3216: 'explosives', 3217: 'pliers', 3218: 'copper', 3219: 'idaho', 3220: 'cotton', 3221: 'temperature', 3222: 'cornelia', 3223: 'smiths', 3224: 'squatters', 3225: 'buildings', 3226: 'unicorns', 3227: 'flowered', 3228: 'flags', 3229: 'echoing', 3230: 'voices', 3231: 'herded', 3232: 'boulevards', 3233: 'hanging', 3234: 'rushing', 3235: 'happen', 3236: 'squirmed', 3237: 'flopped', 3238: 'rink', 3239: 'venice', 3240: 'costs', 3241: 'valued', 3242: '200', 3243: 'dull', 3244: 'star', 3245: 'grammatical', 3246: 'infinite', 3247: 'finite', 3248: 'clues', 3249: 'pastor', 3250: 'verb', 3251: 'educational', 3252: \"'\", 3253: 'fifty', 3254: 'mix', 3255: 'strings', 3256: 'smile', 3257: 'grammar', 3258: 'objected', 3259: 'crucial', 3260: \"dentist's\", 3261: 'deck', 3262: 'rooms', 3263: 'practice', 3264: 'straight', 3265: 'customers', 3266: 'earlier', 3267: 'insane', 3268: \"you'd\", 3269: 'future', 3270: 'arrow', 3271: 'including', 3272: 'chapters', 3273: 'section', 3274: 'tornadoes', 3275: 'tear', 3276: 'nuisance', 3277: 'detrimental', 3278: 'thunder', 3279: 'item', 3280: 'goal', 3281: 'graham', 3282: 'rotten', 3283: 'success', 3284: 'ago', 3285: 'theater', 3286: 'film', 3287: 'task', 3288: 'test', 3289: 'delay', 3290: 'sons', 3291: 'b', 3292: 'amazing', 3293: 'robot', 3294: 'putting', 3295: 'causes', 3296: 'popular', 3297: 'lasagna', 3298: 'alice', 3299: 'board', 3300: 'effective', 3301: 'asking', 3302: 'remarks', 3303: 'prisoner', 3304: 'lunatic', 3305: 'addressed', 3306: 'miro', 3307: 'klee', 3308: 'neutered', 3309: 'freely', 3310: 'beavers', 3311: 'chicken', 3312: 'despondent', 3313: \"darwin's\", 3314: 'evolution', 3315: 'intends', 3316: 'oatmeal', 3317: 'repeat', 3318: 'confrontations', 3319: 'vaccine', 3320: 'independent', 3321: 'coughs', 3322: 'ostrich', 3323: 'weddings', 3324: 'missed', 3325: 'thesis', 3326: 'thankful', 3327: 'candidates', 3328: 'values', 3329: 'troops', 3330: 'styles', 3331: 'finishing', 3332: 'disease', 3333: 'gettysburg', 3334: '1863', 3335: 'pamphlet', 3336: 'judy', 3337: 'invitations', 3338: 'e', 3339: 'succeed', 3340: 'point', 3341: \"shakespeare's\", 3342: \"conrad's\", 3343: 'simple', 3344: 'drops', 3345: 'sanitize', 3346: 'period', 3347: 'miles', 3348: 'transparent', 3349: 'previous', 3350: 'months', 3351: 'fresco', 3352: 'damage', 3353: 'major', 3354: 'value', 3355: 'galleries', 3356: 'crew', 3357: 'sponsor', 3358: 'avid', 3359: 'skiers', 3360: 'workers', 3361: 'remedy', 3362: 'ferocious', 3363: 'bite', 3364: 'efforts', 3365: 'participants', 3366: 'color', 3367: 'loyal', 3368: 'honor', 3369: 'spoiling', 3370: 'unicorn', 3371: 'regrets', 3372: 'weekly', 3373: 'meetings', 3374: 'disadvantage', 3375: 'shall', 3376: 'argue', 3377: 'sharks', 3378: 'interrogating', 3379: 'rudely', 3380: 'citizens', 3381: \"korea's\", 3382: 'poets', 3383: 'unidentified', 3384: 'victim', 3385: 'apparently', 3386: 'east', 3387: 'liters', 3388: 'acid', 3389: 'beaker', 3390: 'guide', 3391: 'detail', 3392: '1970', 3393: 'reputed', 3394: 'bore', 3395: 'scandal', 3396: 'selfish', 3397: 'assume', 3398: 'appropriate', 3399: 'feasible', 3400: 'drapes', 3401: 'nina', 3402: 'camped', 3403: 'beside', 3404: 'grown', 3405: 'san', 3406: 'francisco', 3407: 'businessman', 3408: 'surely', 3409: 'hobbs', 3410: \"edward's\", 3411: 'player', 3412: 'shouted', 3413: 'visitors', 3414: 'chocolates', 3415: 'exclude', 3416: 'protected', 3417: 'graduation', 3418: 'fired', 3419: 'textbook', 3420: 'mending', 3421: 'mended', 3422: 'relative', 3423: 'intrigued', 3424: 'include', 3425: 'matters', 3426: 'excluded', 3427: 'south', 3428: 'classroom', 3429: 'california', 3430: 'scored', 3431: '80', 3432: 'contestant', 3433: \"judge's\", 3434: 'dreadfully', 3435: 'mention', 3436: 'supper', 3437: 'stress', 3438: 'property', 3439: 'disaster', 3440: 'result', 3441: 'herb', 3442: 'technology', 3443: 'ignored', 3444: 'theorem', 3445: 'sonata', 3446: 'dalai', 3447: 'lama', 3448: 'tibet', 3449: 'disturbs', 3450: 'freaks', 3451: 'creeps', 3452: 'ray', 3453: 'frustrating', 3454: 'poverty', 3455: 'settle', 3456: 'acquitted', 3457: 'strongly', 3458: 'gentleman', 3459: 'research', 3460: 'vetoed', 3461: 'spilled', 3462: 'poodle', 3463: 'birth', 3464: 'fries', 3465: 'assigned', 3466: 'professional', 3467: 'dancer', 3468: 'mets', 3469: 'tersely', 3470: 'affect', 3471: 'criticize', 3472: 'carter', 3473: 'shorter', 3474: 'tangerine', 3475: 'coward', 3476: 'pull', 3477: 'puddings', 3478: 'grasshopper', 3479: 'doors', 3480: 'surgeon', 3481: 'lucille', 3482: 'hein', 3483: 'elegant', 3484: 'decidedly', 3485: 'obviously', 3486: 'kindest', 3487: 'christine', 3488: \"door's\", 3489: 'sadder', 3490: 'bamboo', 3491: 'enemies', 3492: 'laps', 3493: 'joneses', 3494: 'block', 3495: 'television', 3496: 'ciaran', 3497: 'seamus', 3498: 'vegas', 3499: 'defend', 3500: 'zeke', 3501: 'washing', 3502: 'axe', 3503: 'canadian', 3504: 'prudish', 3505: 'peanuts', 3506: 'drooling', 3507: 'bruce', 3508: 'apartment', 3509: 'syntactic', 3510: 'reveals', 3511: 'structure', 3512: 'cent', 3513: 'fan', 3514: 'circus', 3515: 'clowns', 3516: 'exception', 3517: 'volume', 3518: 'michigan', 3519: 'obscene', 3520: 'sack', 3521: \"panther's\", 3522: 'travesty', 3523: 'swing', 3524: 'golf', 3525: 'whale', 3526: 'lollipop', 3527: 'accidentally', 3528: 'julia', 3529: 'jaime', 3530: 'feel', 3531: 'jockey', 3532: 'forgiven', 3533: 'ridden', 3534: 'supervisor', 3535: 'obsessed', 3536: \"he'd\", 3537: 'bradley', 3538: 'shah', 3539: 'dust', 3540: 'soft', 3541: 'popcorn', 3542: 'lounge', 3543: 'plot', 3544: 'tami', 3545: 'mugged', 3546: 'josh', 3547: 'briana', 3548: 'justin', 3549: 'manuel', 3550: 'mate', 3551: 'behaved', 3552: 'trash', 3553: 'kathleen', 3554: 'disturb', 3555: 'milo', 3556: 'tabloids', 3557: 'morgan', 3558: 'hire', 3559: 'squid', 3560: 'depiction', 3561: 'embarrassing', 3562: 'published', 3563: 'ugliest', 3564: 'stars', 3565: 'objections', 3566: 'sale', 3567: 'planes', 3568: 'confiscate', 3569: 'liquor', 3570: 'inspiring', 3571: 'individually', 3572: 'slipped', 3573: 'lecturing', 3574: 'encountered', 3575: 'trip', 3576: 'displays', 3577: 'virtually', 3578: 'defected', 3579: 'planning', 3580: 'kennedy', 3581: 'speeds', 3582: 'hummed', 3583: 'winning', 3584: 'putt', 3585: 'trucks', 3586: 'motorway', 3587: 'flora', 3588: 'carrying', 3589: 'felled', 3590: 'chainsaw', 3591: 'knitting', 3592: \"marianne's\", 3593: 'unhappiness', 3594: 'damages', 3595: 'damaged', 3596: 'crawford', 3597: 'bingley', 3598: 'abbey', 3599: 'dismayed', 3600: 'bunker', 3601: 'rooke', 3602: 'astonished', 3603: 'walter', 3604: 'brighton', 3605: 'drivers', 3606: 'realised', 3607: 'apoplexy', 3608: 'prime', 3609: 'beatles', 3610: 'merle', 3611: 'armies', 3612: 'manager', 3613: 'glasgow', 3614: 'cliff', 3615: 'william', 3616: 'martin', 3617: 'insulted', 3618: 'awkward', 3619: 'enthusiastic', 3620: 'memo', 3621: 'strasbourg', 3622: 'november', 3623: 'chew', 3624: 'imogen', 3625: 'opened', 3626: 'believing', 3627: 'knocking', 3628: 'crossing', 3629: 'fans', 3630: 'provoked', 3631: 'rival', 3632: 'healthy', 3633: 'remark', 3634: 'banker', 3635: 'ronnie', 3636: 'gerry', 3637: 'tracy', 3638: 'beats', 3639: 'beating', 3640: 'file', 3641: 'pamper', 3642: 'proctor', 3643: 'parade', 3644: 'berne', 3645: 'drinks', 3646: 'relax', 3647: 'bobbie', 3648: 'dime', 3649: 'incredible', 3650: 'australia', 3651: 'act', 3652: 'friendly', 3653: 'contacts', 3654: 'climb', 3655: 'faithfully', 3656: 'ships', 3657: 'emerged', 3658: 'inspectors', 3659: 'ins', 3660: 'closed', 3661: 'jump', 3662: 'elapsed', 3663: 'reg', 3664: 'agency', 3665: 'classified', 3666: 'intensified', 3667: 'within', 3668: 'hiker', 3669: 'paints', 3670: 'provide', 3671: 'graded', 3672: 'excessively', 3673: 'praises', 3674: \"one's\", 3675: 'cone', 3676: 'firemen', 3677: 'animal', 3678: 'control', 3679: 'glows', 3680: 'dungeon', 3681: 'thousand', 3682: 'helicopter', 3683: 'derry', 3684: 'wept', 3685: 'seaweed', 3686: 'wails', 3687: 'memory', 3688: 'cursed', 3689: \"therapist's\", 3690: 'owns', 3691: 'dinosaur', 3692: 'headmaster', 3693: 'cassandra', 3694: 'fighting', 3695: \"moya's\", 3696: 'hen', 3697: 'dp', 3698: \"demosthenes'\", 3699: 'misses', 3700: 'undoing', 3701: 'replied', 3702: \"consul's\", 3703: 'gladiator', 3704: 'mandrake', 3705: 'maureen', 3706: 'therapist', 3707: 'cracked', 3708: 'affairs', 3709: 'recital', 3710: 'environmental', 3711: 'heath', 3712: 'assumed', 3713: 'wail', 3714: \"maureen's\", 3715: 'greeks', 3716: 'lard', 3717: 'smuggled', 3718: 'hungary', 3719: 'programme', 3720: 'euripides', 3721: 'steal', 3722: 'talismans', 3723: 'witches', 3724: 'twins', 3725: 'grunt', 3726: 'barman', 3727: 'sober', 3728: 'gomez', 3729: 'highest', 3730: 'marks', 3731: 'matthew', 3732: \"evan's\", 3733: 'infuriated', 3734: 'treated', 3735: 'dirt', 3736: 'aristotle', 3737: 'euclid', 3738: 'invade', 3739: 'meg', 3740: 'sniffs', 3741: 'hung', 3742: 'flown', 3743: 'screwdriver', 3744: 'scissors', 3745: 'pro', 3746: 'merlin', 3747: 'ode', 3748: \"she'd\", 3749: 'holidays', 3750: 'sniff', 3751: 'hermes', 3752: 'recite', 3753: 'shield', 3754: 'imposition', 3755: 'esther', 3756: 'demonstrated', 3757: 'broomstick', 3758: 'fondest', 3759: 'oedipus', 3760: 'escape', 3761: 'invisible', 3762: 'seduce', 3763: 'robe', 3764: 'grunts', 3765: 'compared', 3766: 'rocks', 3767: 'fill', 3768: 'factory', 3769: 'dad', 3770: 'quip', 3771: 'shocks', 3772: 'differ', 3773: 'topic', 3774: 'brand', 3775: 'settled', 3776: 'served', 3777: 'occasions', 3778: \"meg's\", 3779: 'columnists', 3780: 'briefing', 3781: \"ta's\", 3782: 'arguing', 3783: 'budget', 3784: 'dilemmas', 3785: 'panetta', 3786: 'agnes', 3787: 'bassoon', 3788: 'oboe', 3789: 'ants', 3790: 'squash', 3791: 'walt', 3792: 'amazed', 3793: 'legs', 3794: 'von', 3795: \"karajan's\", 3796: 'recording', 3797: \"beethoven's\", 3798: '6th', 3799: 'columbia', 3800: \"klemperer's\", 3801: 'tempo', 3802: \"steve's\", 3803: 'diagram', 3804: \"snake's\", 3805: 'inspired', 3806: 'rent', 3807: 'cheap', 3808: \"book's\", 3809: 'album', 3810: 'allegation', 3811: 'celebrated', 3812: 'newsweek', 3813: 'declining', 3814: 'picnic', 3815: 'soundly', 3816: 'furry', 3817: 'protesters', 3818: 'raced', 3819: 'puts', 3820: 'felon', 3821: 'council', 3822: 'seat', 3823: 'cardinal', 3824: 'hay', 3825: 'follow', 3826: 'correspondence', 3827: 'typist', 3828: 'propose', 3829: 'facts', 3830: 'murkier', 3831: 'stupor', 3832: 'followed', 3833: 'highway', 3834: 'sd', 3835: 'sf', 3836: 'tracked', 3837: 'leak', 3838: 'source', 3839: 'waltzes', 3840: 'urinated', 3841: 'toilet', 3842: 'below', 3843: 'hose', 3844: 'hammers', 3845: 'trolley', 3846: 'tunnel', 3847: 'bullets', 3848: 'knee', 3849: 'replacement', 3850: 'groaned', 3851: 'honked', 3852: 'vanishing', 3853: 'thereby', 3854: 'zigzagged', 3855: 'cutting', 3856: 'elevator', 3857: 'telephone', 3858: 'overjoyed', 3859: 'especially', 3860: 'sierra', 3861: 'rubbing', 3862: 'cursing', 3863: 'leaf', 3864: 'landed', 3865: 'aliza', 3866: 'tooth', 3867: 'center', 3868: 'spinning', 3869: 'flywheel', 3870: 'hatchet', 3871: 'jeep', 3872: 'whatever', 3873: 'examples', 3874: 'inclined', 3875: 'appreciate', 3876: 'dine', 3877: 'susceptible', 3878: 'succumbs', 3879: 'weatherman', 3880: 'lynn', 3881: 'astronomy', 3882: 'meteorology', 3883: 'predict', 3884: 'starts', 3885: 'attacking', 3886: 'inadequate', 3887: 'v', 3888: 'newspapers', 3889: 'hell', 3890: 'conclusion', 3891: 'remembers', 3892: 'uneducated', 3893: 'undisciplined', 3894: 'attentive', 3895: 'typical', 3896: 'subjects', 3897: 'diligent', 3898: 'tending', 3899: 'promises', 3900: 'strived', 3901: 'dense', 3902: 'turns', 3903: 'emitted', 3904: 'lasted', 3905: 'till', 3906: 'nest', 3907: 'resulted', 3908: 'touching', 3909: 'occupies', 3910: 'inhabits', 3911: 'fills', 3912: 'joins', 3913: 'joined', 3914: 'straddles', 3915: 'straddled', 3916: 'agents', 3917: 'sponge', 3918: 'drained', 3919: 'empty', 3920: 'laid', 3921: 'concluded', 3922: 'petrol', 3923: 'pump', 3924: 'beneath', 3925: 'waves', 3926: 'wimp', 3927: 'professors', 3928: 'politicians', 3929: 'mug', 3930: 'vivien', 3931: 'virginia', 3932: 'transferred', 3933: 'convincing', 3934: 'particularly', 3935: 'nevertheless', 3936: 'flo', 3937: 'desperately', 3938: 'dolphins', 3939: 'offs', 3940: 'fools', 3941: 'totally', 3942: 'trainer', 3943: 'steaks', 3944: 'nonsense', 3945: 'impresses', 3946: 'tulips', 3947: 'powder', 3948: 'hideous', 3949: 'shade', 3950: 'joggers', 3951: 'nikes', 3952: 'threadbare', 3953: 'frenzy', 3954: 'handkerchief', 3955: 'soggy', 3956: 'refusing', 3957: 'refusal', 3958: 'recall', 3959: \"josé's\", 3960: 'batting', 3961: 'barnes', 3962: 'precisely', 3963: 'unload', 3964: 'spouse', 3965: 'approves', 3966: 'dickens', 3967: \"we'd\", 3968: 'barcelona', 3969: 'sweetie', 3970: 'babel', 3971: 'meryl', 3972: 'harris', 3973: 'harassment', 3974: 'lesbians', 3975: 'gays', 3976: 'autonomous', 3977: 'governments', 3978: 'avoiding', 3979: 'draft', 3980: 'squint', 3981: 'released', 3982: 'gorbachev', 3983: 'chose', 3984: 'fairly', 3985: 'informal', 3986: 'accessible', 3987: 'fashion', 3988: \"rome's\", 3989: \"drug's\", 3990: 'tested', 3991: 'mercury', 3992: 'venus', 3993: 'languages', 3994: 'guinevere', 3995: 'bone', 3996: 'inspecting', 3997: 'dates', 3998: 'producer', 3999: 'arguments', 4000: 'condition', 4001: 'inherited', 4002: 'inherit', 4003: 'seminars', 4004: 'physicists', 4005: 'godsend', 4006: 'boasted', 4007: 'lucie', 4008: 'adults', 4009: 'biography', 4010: 'display', 4011: 'revised', 4012: 'dl', 4013: 'd', 4014: 'fall', 4015: 'snowball', 4016: \"where's\", 4017: 'bikini', 4018: 'dill', 4019: 'shaving', 4020: 'opening', 4021: \"student'\", 4022: 'fumes', 4023: 'indians', 4024: 'advisor', 4025: 'freshman', 4026: 'advised', 4027: 'utah', 4028: 'toms', 4029: 'divulged', 4030: 'reluctantly', 4031: 'saturday', 4032: 'stoutly', 4033: 'chance', 4034: 'progressed', 4035: \"dick's\", 4036: 'generative', 4037: 'preposterous', 4038: 'saucers', 4039: \"suzie's\", 4040: 'myra', 4041: \"betty's\", 4042: 'gal', 4043: \"levi's\", 4044: 'statements', 4045: \"judy's\", 4046: 'warped', 4047: 'compute', 4048: 'irma', 4049: 'floyd', 4050: 'idled', 4051: 'nike', 4052: 'yearn', 4053: 'dimple', 4054: 'heated', 4055: 'merv', 4056: 'generosity', 4057: 'marines', 4058: 'drafted', 4059: 'roiling', 4060: 'damaging', 4061: 'anita', 4062: 'forgery', 4063: 'loopholes', 4064: 'employee', 4065: \"guardians'\", 4066: 'marion', 4067: 'eleven', 4068: 'scenes', 4069: 'censors', 4070: 'marriage', 4071: 'giant', 4072: 'panda', 4073: 'experiment', 4074: 'fourteen', 4075: 'variables', 4076: 'skirts', 4077: \"gauss's\", 4078: 'polynomial', 4079: 'lemma', 4080: 'entering', 4081: 'border', 4082: 'blackjack', 4083: 'cookie', 4084: 'jar', 4085: 'outing', 4086: \"university's\", 4087: 'committed', 4088: 'freedom', 4089: \"aunt's\", 4090: 'grandmother', 4091: 'furious', 4092: 'gawking', 4093: \"anna's\", 4094: 'cf', 4095: 'odd', 4096: 'granted', 4097: 'exceedingly', 4098: \"mort's\", 4099: 'swell', 4100: 'lenny', 4101: 'whitey', 4102: 'ronald', 4103: 'scoffs', 4104: 'conceded', 4105: 'steady', 4106: 'japanese', 4107: 'rule', 4108: 'suspicion', 4109: 'rolls', 4110: 'glider', 4111: 'hazardous', 4112: 'barricaded', 4113: 'bathrooms', 4114: 'emptying', 4115: 'gasoline', 4116: 'sport', 4117: 'reserved', 4118: 'arsons', 4119: 'cowardly', 4120: 'confess', 4121: 'vomited', 4122: 'tied', 4123: 'nuts', 4124: 'cleaver', 4125: 'swiss', 4126: 'padlock', 4127: 'corkscrew', 4128: 'slapped', 4129: 'nobel', 4130: 'astrology', 4131: 'vodka', 4132: \"maxwell's\", 4133: 'marge', 4134: 'african', 4135: 'chief', 4136: 'snowing', 4137: 'spain', 4138: 'mom', 4139: 'nordic', 4140: 'nurses', 4141: 'college', 4142: 'exams', 4143: 'exercises', 4144: 'begun', 4145: 'booze', 4146: 'wheaties', 4147: 'sammy', 4148: '7', 4149: 'millimeters', 4150: 'scrooge', 4151: 'generously', 4152: 'yearly', 4153: 'salary', 4154: 'cents', 4155: 'hare', 4156: 'outran', 4157: 'tortoise', 4158: 'latter', 4159: 'overthrow', 4160: 'publicly', 4161: 'armenian', 4162: 'grills', 4163: 'seats', 4164: 'acknowledged', 4165: 'informers', 4166: 'glaring', 4167: 'handbag', 4168: 'martian', 4169: 'headlines', 4170: 'submitted', 4171: 'saucer', 4172: 'crack', 4173: 'palmer', 4174: 'kong', 4175: 'clarence', 4176: 'mauve', 4177: 'rug', 4178: 'toby', 4179: 'tarpaulin', 4180: 'possibility', 4181: 'swears', 4182: 'step', 4183: 'scars', 4184: 'typewriter', 4185: 'administrator', 4186: 'mean', 4187: 'tickled', 4188: 'bureau', 4189: 'treading', 4190: \"anyone's\", 4191: 'toes', 4192: 'myrna', 4193: 'curious', 4194: 'side', 4195: 'field', 4196: 'jewish', 4197: 'roots', 4198: 'sum', 4199: 'brush', 4200: 'sulk', 4201: 'funk', 4202: 'recession', 4203: 'julian', 4204: 'entire', 4205: 'figures', 4206: 'lifeline', 4207: 'giggle', 4208: 'astray', 4209: \"detainees'\", 4210: 'detainees', 4211: 'alphabet', 4212: 'r', 4213: 'maxine', 4214: 'goodnight', 4215: 'interviewing', 4216: 'nixon', 4217: '1970s', 4218: 'soundscape', 4219: 'gordie', 4220: 'gillespie', 4221: 'umps', 4222: 'unreadable', 4223: 'guaranteed', 4224: 'print', 4225: '22', 4226: 'percent', 4227: 'surveyed', 4228: 'pfizer', 4229: 'tylenol', 4230: 'relief', 4231: 'lopez', 4232: 'site', 4233: 'illness', 4234: \"magician's\", 4235: 'vases', 4236: 'frames', 4237: 'slightest', 4238: 'adore', 4239: 'dove', 4240: 'sleeve', 4241: 'departing', 4242: 'passenger', 4243: 'hurriedly', 4244: 'shears', 4245: 'clip', 4246: 'lotion', 4247: 'softens', 4248: 'soothes', 4249: 'cleans', 4250: 'shines', 4251: 'jock', 4252: 'tasting', 4253: 'faustina', 4254: 'lilies', 4255: 'descended', 4256: 'seething', 4257: 'seed', 4258: 'collided', 4259: 'don', 4260: 'mosquito', 4261: 'pierced', 4262: \"horse's\", 4263: 'daisy', 4264: \"daisy's\", 4265: \"rachel's\", 4266: \"volunteers'\", 4267: 'mark', 4268: \"mark's\", 4269: 'crane', 4270: 'pitchfork', 4271: 'incorporated', 4272: 'incorporates', 4273: 'jaws', 4274: 'polishes', 4275: 'lax', 4276: 'supervision', 4277: 'pillow', 4278: 'feathers', 4279: 'violent', 4280: 'demonstration', 4281: 'ballad', 4282: 'hymn', 4283: 'anthem', 4284: 'snorted', 4285: 'sided', 4286: 'tape', 4287: 'bones', 4288: 'backbone', 4289: 'thanks', 4290: 'adoration', 4291: 'shopped', 4292: 'stipulated', 4293: 'explorers', 4294: 'jasmine', 4295: 'burned', 4296: 'belinda', 4297: 'smelled', 4298: 'includes', 4299: 'audrey', 4300: 'tiptoed', 4301: 'wobbled', 4302: 'leona', 4303: 'aide', 4304: \"they've\", 4305: 'budged', 4306: 'tables', 4307: 'pours', 4308: 'coils', 4309: 'squirted', 4310: 'splashed', 4311: 'swaddled', 4312: 'blankets', 4313: 'nowhere', 4314: 'rack', 4315: 'skies', 4316: 'outside', 4317: 'trimmed', 4318: 'swindler', 4319: 'scrubbed', 4320: 'horne', 4321: 'presentation', 4322: 'bloomingdale', 4323: 'purchased', 4324: 'purchase', 4325: 'berry', 4326: 'gate', 4327: 'softball', 4328: 'baseballs', 4329: 'toss', 4330: 'pelt', 4331: 'hits', 4332: 'swat', 4333: \"child's\", 4334: 'spank', 4335: \"paula's\", 4336: 'grocery', 4337: 'denim', 4338: \"tree's\", 4339: 'interconnected', 4340: 'yolks', 4341: 'whites', 4342: 'differs', 4343: 'dyed', 4344: \"night's\", 4345: 'mansion', 4346: 'twirled', 4347: 'pretzel', 4348: 'shapes', 4349: 'lump', 4350: 'racial', 4351: 'inequality', 4352: 'miriam', 4353: 'tutored', 4354: 'clerked', 4355: 'davis', 4356: 'runaway', 4357: 'screen', 4358: 'pea', 4359: 'amusing', 4360: 'marveled', 4361: 'beauty', 4362: 'grand', 4363: 'canyon', 4364: 'needing', 4365: 'longs', 4366: 'longing', 4367: 'conferring', 4368: 'jam', 4369: 'embarrassment', 4370: 'meal', 4371: 'pirates', 4372: 'groomed', 4373: 'barber', 4374: \"baby's\", 4375: 'dresses', 4376: 'stepmother', 4377: 'dagger', 4378: 'exterminator', 4379: 'insects', 4380: 'ddt', 4381: 'jewel', 4382: 'hinges', 4383: 'buzzed', 4384: 'chimed', 4385: 'squeaking', 4386: 'presence', 4387: 'gushing', 4388: 'cities', 4389: 'rods', 4390: 'bend', 4391: 'languished', 4392: 'mathematician', 4393: 'existed', 4394: 'farmers', 4395: 'trembled', 4396: 'bulge', 4397: 'gardens', 4398: 'behold', 4399: 'crawls', 4400: 'caps', 4401: '13th', 4402: 'century', 4403: 'recently', 4404: 'collaborators', 4405: 'gutter', 4406: 'hoop', 4407: 'wilma', 4408: 'summers', 4409: 'seashore', 4410: '2002', 4411: 'obscure', 4412: 'constellation', 4413: '600', 4414: 'luminous', 4415: 'temporarily', 4416: 'brightest', 4417: 'galaxy', 4418: 'native', 4419: 'speakers', 4420: 'competence', 4421: 'generate', 4422: 'resources', 4423: 'evidences', 4424: 'mars', 4425: 'preposition', 4426: 'negatives', 4427: 'equipments', 4428: 'weeks', 4429: 'bags', 4430: 'provides', 4431: 'tools', 4432: 'armchairs', 4433: 'beers', 4434: 'agrees', 4435: 'element', 4436: 'tourism', 4437: 'average', 4438: 'age', 4439: 'eyeglasses', 4440: 'vary', 4441: 'considerably', 4442: 'despite', 4443: 'limited', 4444: 'opportunities', 4445: 'abraham', 4446: 'greatest', 4447: 'intellectuals', 4448: 'notwithstanding', 4449: 'applications', 4450: 'favor', 4451: 'liking', 4452: 'hydrogen', 4453: 'peroxide', 4454: 'developing', 4455: 'nicely', 4456: 'kindly', 4457: 'shame', 4458: 'lucrative', 4459: 'leaders', 4460: 'semester', 4461: 'chimney', 4462: 'meaning', 4463: 'chanson', 4464: 'fluently', 4465: 'suitcase', 4466: 'waited', 4467: 'whistle', 4468: 'imagines', 4469: 'desserts', 4470: 'instant', 4471: 'seller', 4472: 'quotes', 4473: 'request', 4474: 'amount', 4475: 'aside', 4476: 'reasonable', 4477: 'proudly', 4478: 'angelica', 4479: 'page', 4480: 'disappoint', 4481: 'belonged', 4482: 'ultimate', 4483: 'map', 4484: 'message', 4485: 'immoral', 4486: 'spoil', 4487: 'inform', 4488: 'chemistry', 4489: 'termites', 4490: 'sand', 4491: 'castle', 4492: 'unexpected', 4493: 'deprived', 4494: 'cards', 4495: 'attic', 4496: 'towel', 4497: 'remains', 4498: 'grandson', 4499: 'haired', 4500: 'pipe', 4501: \"kim's\", 4502: 'scholarships', 4503: 'nicest', 4504: \"america's\", 4505: '31st', 4506: 'parted', 4507: 'stands', 4508: 'insect', 4509: 'vacuum', 4510: 'cleaner', 4511: 'evenings', 4512: 'performed', 4513: 'mornings', 4514: 'global', 4515: 'warming', 4516: 'natural', 4517: 'lobby', 4518: 'lotte', 4519: 'savings', 4520: 'radish', 4521: 'devours', 4522: 'devour', 4523: 'roll', 4524: 'weary', 4525: 'somewhat', 4526: 'calm', 4527: 'typed', 4528: 'raccoons', 4529: 'sexual', 4530: 'revolution', 4531: 'uncomfortable', 4532: 'ad', 4533: 'agencies', 4534: 'generation', 4535: 'x', 4536: 'ers', 4537: 'historians', 4538: 'fdr', 4539: 'bathed', 4540: \"karen's\", 4541: 'flight', 4542: 'booked', 4543: 'champion', 4544: 'confined', 4545: 'ascribed', 4546: 'longevity', 4547: 'fined', 4548: 'faced', 4549: 'interpreting', 4550: 'transcribing', 4551: 'editing', 4552: 'displayed', 4553: 'lengthy', 4554: 'arduous', 4555: 'broadly', 4556: \"son's\", 4557: 'passing', 4558: 'perspective', 4559: 'forgetting', 4560: 'cage', 4561: 'compound', 4562: 'truly', 4563: 'amphibian', 4564: 'mammal', 4565: 'arose', 4566: 'solutions', 4567: 'demanded', 4568: 'phoning', 4569: 'availability', 4570: 'requirement', 4571: 'royal', 4572: 'otter', 4573: 'adopt', 4574: 'enjoyable', 4575: 'undeniable', 4576: 'gordon', 4577: 'insistent', 4578: 'truthful', 4579: 'ashamed', 4580: 'neglected', 4581: 'check', 4582: 'directors', 4583: 'operation', 4584: 'announcement', 4585: 'participate', 4586: 'administrators', 4587: 'delivering', 4588: 'enterprise', 4589: 'american', 4590: 'traditions', 4591: 'frequent', 4592: 'contact', 4593: 'clients', 4594: 'limits', 4595: 'existing', 4596: 'commended', 4597: 'uniform', 4598: 'routine', 4599: 'features', 4600: 'rush', 4601: 'greenpeace', 4602: 'bombing', 4603: 'charged', 4604: 'cheating', 4605: 'referred', 4606: 'abandonment', 4607: \"day's\", 4608: 'competitions', 4609: 'aloe', 4610: 'analgesic', 4611: 'effect', 4612: 'inflammation', 4613: 'minor', 4614: 'skin', 4615: 'irritations', 4616: 'ability', 4617: 'repeated', 4618: 'backed', 4619: 'action', 4620: 'testify', 4621: 'criminal', 4622: 'countries', 4623: \"bother's\", 4624: 'bodyguard', 4625: 'surveillance', 4626: \"roll's\", 4627: 'led', 4628: 'faxed', 4629: 'edward', 4630: 'davids', 4631: 'einstein', 4632: 'downs', 4633: 'critique', 4634: 'republic', 4635: 'contemporary', 4636: 'swims', 4637: 'prawns', 4638: 'pepper', 4639: 'dish', 4640: 'deliciously', 4641: '1950', 4642: 'represents', 4643: 'represent', 4644: 'preparation', 4645: 'fixture', 4646: 'trained', 4647: 'efficiently', 4648: 'acceptable', 4649: 'conditioning', 4650: 'diners', 4651: 'menus', 4652: 'belong', 4653: 'repainted', 4654: 'wrongdoing', 4655: 'unfounded', 4656: 'wooden', 4657: 'alive', 4658: 'index', 4659: 'worthy', 4660: 'customary', 4661: 'excuses', 4662: 'suffices', 4663: 'edgar', 4664: 'robins', 4665: 'virus', 4666: 'sites', 4667: 'conveniently', 4668: 'central', 4669: 'consumes', 4670: 'breastfeeding', 4671: 'produced', 4672: 'nursing', 4673: 'voting', 4674: 'affecting', 4675: 'attending', 4676: 'concerts', 4677: 'unanimous', 4678: 'variety', 4679: 'vogue', 4680: 'tobacco', 4681: 'lack', 4682: 'motivation', 4683: 'wealth', 4684: 'estate', 4685: 'investments', 4686: 'nearby', 4687: 'persephone', 4688: 'demeter', 4689: 'goddesses', 4690: 'olympus', 4691: 'wintry', 4692: 'promoters', 4693: 'compare', 4694: 'tenderloin', 4695: 'connection', 4696: 'oysters', 4697: 'riots', 4698: 'mow', 4699: 'gregory', 4700: 'barry', 4701: 'continues', 4702: 'proceed', 4703: 'coaxed', 4704: 'urged', 4705: \"leftn't\", 4706: 'entertained', 4707: 'remodelling', 4708: 'solving', 4709: 'canning', 4710: 'wills', 4711: 'kicking', 4712: 'vital', 4713: 'everyday', 4714: 'deceived', 4715: 'income', 4716: '1913', 4717: 'distinction', 4718: 'endorsed', 4719: 'nowadays', 4720: 'forever', 4721: \"they'd\", 4722: 'joining', 4723: 'navy', 4724: 'ought', 4725: 'luggage', 4726: 'dared', 4727: 'trim', 4728: 'friendship', 4729: 'removing', 4730: 'shovel', 4731: 'shed', 4732: 'springfield', 4733: 'federal', 4734: 'cruising', 4735: 'financial', 4736: 'assistance', 4737: 'dealer', 4738: 'spending', 4739: 'leaks', 4740: 'toledo', 4741: 'remodeling', 4742: 'sewer', 4743: 'commissioner', 4744: 'social', 4745: 'concerns', 4746: 'constituents', 4747: 'tokyo', 4748: 'loosened', 4749: 'restrictions', 4750: 'prescribe', 4751: 'aspirin', 4752: 'harold', 4753: 'falling', 4754: 'zebras', 4755: 'optimism', 4756: 'bugs', 4757: 'members', 4758: 'targets', 4759: 'observed', 4760: 'angle', 4761: 'saturn', 4762: 'north', 4763: 'jupiter', 4764: 'rises', 4765: 'suspects', 4766: 'fitted', 4767: 'born', 4768: 'promptly', 4769: 'gathered', 4770: 'resign', 4771: 'events', 4772: 'described', 4773: '120', 4774: 'contaminants', 4775: 'balloon', 4776: 'positioned', 4777: 'blockage', 4778: 'inflated', 4779: 'cancer', 4780: 'shirley', 4781: 'promoted', 4782: 'anymore', 4783: 'inches', 4784: 'mile', 4785: 'personages', 4786: 'lightning', 4787: 'phoned', 4788: 'tip', 4789: 'surfboard', 4790: 'priest', 4791: 'refund', 4792: 'insult', 4793: 'version', 4794: 'arrows', 4795: 'midair', 4796: 'qualities', 4797: 'enlarged', 4798: 'peacekeeping', 4799: 'delegate', 4800: 'normal', 4801: 'scheme', 4802: 'career', 4803: 'majors', 4804: 'courses', 4805: 'blocking', 4806: 'entrance', 4807: 'implicated', 4808: 'joseph', 4809: 'warn', 4810: 'patriotic', 4811: 'jasper', 4812: 'shelve', 4813: 'referring', 4814: 'trusts', 4815: 'opponent', 4816: 'opponents', 4817: 'pronoun', 4818: 'object', 4819: 'egypt', 4820: 'invested', 4821: 'sealed', 4822: 'sisters', 4823: 'reagan', 4824: 'republicans', 4825: '1980', 4826: 'sin', 4827: 'refuted', 4828: 'refute', 4829: 'impression', 4830: 'rebel', 4831: \"cheney's\", 4832: 'assassinated', 4833: 'enter', 4834: 'level', 4835: 'institutions', 4836: 'relating', 4837: 'habits', 4838: 'dreams', 4839: 'anxiety', 4840: 'nightmares', 4841: 'earthquake', 4842: 'temporary', 4843: 'housing', 4844: 'reimburse', 4845: 'motor', 4846: 'replaced', 4847: 'indicted', 4848: 'lap', 4849: 'ventriloquist', 4850: 'vikings', 4851: 'genes', 4852: 'human', 4853: 'verify', 4854: 'advanced', 4855: 'stays', 4856: 'remodelled', 4857: 'hei', 4858: 'establish', 4859: '1930', 4860: 'scratch', 4861: 'bribe', 4862: 'unreasonable', 4863: 'subscription', 4864: 'continue', 4865: 'co', 4866: 'operate', 4867: 'united', 4868: 'nations', 4869: 'finding', 4870: 'policies', 4871: 'impact', 4872: 'settlement', 4873: 'acquittal', 4874: 'sharp', 4875: 'mainly', 4876: 'attitude', 4877: 'greenhouse', 4878: 'happening', 4879: 'immensely', 4880: 'exciting', 4881: 'stretches', 4882: 'puzzle', 4883: '1997', 4884: 'alien', 4885: 'registration', 4886: 'receipt', 4887: 'card', 4888: 'advantages', 4889: 'couch', 4890: 'blame', 4891: 'suffered', 4892: 'toiled', 4893: 'primarily', 4894: 'switch', 4895: 'defective', 4896: 'generics', 4897: 'exceptions', 4898: 'owls', 4899: 'match', 4900: 'case', 4901: 'daring', 4902: 'character', 4903: 'honda', 4904: 'apologized', 4905: 'gratitude', 4906: 'tease', 4907: 'trolls', 4908: 'shepherd', 4909: '1', 4910: 'jest', 4911: 'anger', 4912: 'trigger', 4913: 'typing', 4914: 'dear', 4915: 'pool', 4916: 'wit', 4917: 'elicit', 4918: 'admiration', 4919: 'unwanted', 4920: \"christine's\", 4921: 'flattened', 4922: 'highly', 4923: 'toothbrush', 4924: 'chorus', 4925: 'doubts', 4926: 'las', 4927: 'bunnies', 4928: 'tasha', 4929: 'misha', 4930: 'washroom', 4931: 'blarney', 4932: 'mongols', 4933: 'quality', 4934: \"gabrielle's\", 4935: 'hamsters', 4936: 'attractive', 4937: 'offspring', 4938: \"wendy's\", 4939: 'parts', 4940: 'dastardly', 4941: \"physician's\", 4942: 'spared', 4943: 'uses', 4944: 'parliamentary', 4945: 'system', 4946: 'democracy', 4947: 'barbecue', 4948: 'internet', 4949: 'censored', 4950: 'copies', 4951: 'sensibilities', 4952: 'darn', 4953: 'dancers', 4954: 'musicians', 4955: 'smoking', 4956: 'brownie', 4957: 'sued', 4958: 'ny', 4959: 'bowls', 4960: 'kangaroo', 4961: 'hopped', 4962: 'inspected', 4963: 'plastic', 4964: 'mat', 4965: 'teenagers', 4966: 'olympic', 4967: 'hopefuls', 4968: 'diligently', 4969: 'dieting', 4970: 'warns', 4971: 'dangers', 4972: 'cholesterol', 4973: 'annoying', 4974: 'faucet', 4975: 'dripping', 4976: 'marian', 4977: 'bonny', 4978: 'inner', 4979: 'emboldened', 4980: 'cocky', 4981: 'parrot', 4982: 'fridge', 4983: 'susanne', 4984: 'minivan', 4985: 'clyde', 4986: 'passionate', 4987: 'candle', 4988: 'kitten', 4989: 'licked', 4990: \"kitten's\", 4991: 'smells', 4992: 'cedric', 4993: 'jolly', 4994: 'overgrown', 4995: 'buenos', 4996: 'aires', 4997: 'regulation', 4998: 'plucky', 4999: 'platypus', 5000: 'gusto', 5001: 'la', 5002: 'bohème', 5003: 'hinted', 5004: 'purse', 5005: 'deftly', 5006: 'passion', 5007: 'bottled', 5008: 'networking', 5009: 'helps', 5010: 'zapotec', 5011: 'marshmallows', 5012: 'marilyn', 5013: 'monroe', 5014: 'norma', 5015: 'jeane', 5016: 'gene', 5017: 'simmons', 5018: 'originally', 5019: 'haim', 5020: 'goldberg', 5021: 'geordie', 5022: 'chef', 5023: 'serves', 5024: 'salads', 5025: 'forks', 5026: 'spine', 5027: 'fiction', 5028: 'mika', 5029: 'heartedly', 5030: 'pink', 5031: 'brazil', 5032: 'pencils', 5033: 'correct', 5034: 'mexico', 5035: 'latin', 5036: 'lined', 5037: 'leaky', 5038: 'automobile', 5039: 'factories', 5040: 'abound', 5041: 'phrase', 5042: 'morphology', 5043: 'complicated', 5044: 'ivan', 5045: 'bores', 5046: 'verse', 5047: 'puritan', 5048: 'soul', 5049: 'beard', 5050: 'biggest', 5051: 'irish', 5052: 'tipperary', 5053: 'thursday', 5054: 'burlap', 5055: 'mealy', 5056: 'skins', 5057: 'cabinet', 5058: 'brim', 5059: 'prestigious', 5060: 'journal', 5061: 'moderately', 5062: 'readership', 5063: 'panther', 5064: \"man's\", 5065: 'howard', 5066: 'danny', 5067: 'stocks', 5068: 'crash', 5069: '1929', 5070: 'boor', 5071: 'moldy', 5072: 'blasted', 5073: 'evidenced', 5074: 'shiny', 5075: 'tap', 5076: 'brazilians', 5077: 'pumped', 5078: 'lenin', 5079: 'tsar', 5080: 'dictator', 5081: 'brezhnev', 5082: 'andropov', 5083: 'yeltsin', 5084: 'stalin', 5085: 'phonetics', 5086: 'tutorials', 5087: 'cheerios', 5088: 'eloise', 5089: 'maurice', 5090: 'quarrel', 5091: 'joel', 5092: 'microwave', 5093: 'ryan', 5094: 'lorenzo', 5095: 'eclipse', 5096: 'kenny', 5097: 'alyssa', 5098: 'margarita', 5099: 'scolding', 5100: 'hanna', 5101: 'directly', 5102: \"tucson's\", 5103: 'finest', 5104: 'hacked', 5105: 'aaron', 5106: 'pair', 5107: 'tongs', 5108: 'hailed', 5109: 'leg', 5110: 'email', 5111: 'yuko', 5112: 'rubbed', 5113: 'garlic', 5114: 'clove', 5115: 'stodgy', 5116: 'ipod', 5117: 'mercedes', 5118: 'adam', 5119: 'hyacinth', 5120: 'pineapples', 5121: 'unfortunate', 5122: 'vulgar', 5123: 'sushi', 5124: 'forgave', 5125: 'rides', 5126: 'amy', 5127: 'angrily', 5128: 'dane', 5129: 'jorge', 5130: 'popsicle', 5131: 'haven', 5132: 'reggie', 5133: 'dirty', 5134: 'thoughts', 5135: 'sonny', 5136: 'cher', 5137: 'donny', 5138: 'strawberry', 5139: 'shakes', 5140: 'milkshakes', 5141: 'escaping', 5142: 'rioters', 5143: 'certainty', 5144: 'soda', 5145: 'bothering', 5146: 'snorkel', 5147: 'collars', 5148: 'sales', 5149: 'stockbrokers', 5150: 'bulb', 5151: 'advertising', 5152: 'slave', 5153: 'labor', 5154: 'complaining', 5155: 'imported', 5156: 'yeti', 5157: 'dating', 5158: 'service', 5159: 'necessary', 5160: 'greg', 5161: 'incorrectly', 5162: 'mood', 5163: 'christina', 5164: 'consented', 5165: 'invincible', 5166: 'therapy', 5167: 'spa', 5168: 'collecting', 5169: 'jazz', 5170: 'martina', 5171: 'deathly', 5172: 'spiders', 5173: 'films', 5174: 'exhibition', 5175: 'photos', 5176: 'novels', 5177: 'balkan', 5178: 'darin', 5179: 'octopus', 5180: 'alexandra', 5181: 'gallery', 5182: \"army's\", 5183: 'tragedy', 5184: \"tv's\", 5185: \"peter's\", 5186: 'drawings', 5187: 'depictions', 5188: 'congratulate', 5189: 'unflattering', 5190: 'rarely', 5191: 'seldom', 5192: 'virtue', 5193: 'names', 5194: 'advertises', 5195: 'handbook', 5196: 'confidently', 5197: 'female', 5198: 'fugitives', 5199: 'jail', 5200: 'lizards', 5201: 'actual', 5202: 'giraffes', 5203: 'negative', 5204: 'prof', 5205: 'greece', 5206: 'doorbell', 5207: 'trophy', 5208: 'prominent', 5209: 'suspicious', 5210: 'iron', 5211: 'pot', 5212: 'keys', 5213: 'skeptical', 5214: 'ways', 5215: 'dishonest', 5216: 'cadillac', 5217: 'seymour', 5218: 'virgin', 5219: 'werewolf', 5220: 'melvin', 5221: 'communist', 5222: 'places', 5223: 'positively', 5224: 'equal', 5225: 'volumes', 5226: 'audit', 5227: 'difference', 5228: 'salts', 5229: 'gourmet', 5230: 'meals', 5231: 'intriguing', 5232: 'examination', 5233: 'packet', 5234: \"chalky's\", 5235: 'sleeping', 5236: 'plum', 5237: 'brandy', 5238: 'port', 5239: 'scraps', 5240: 'despaired', 5241: 'slighted', 5242: 'elton', 5243: 'carriage', 5244: 'thieves', 5245: 'aqueduct', 5246: 'calculate', 5247: 'variable', 5248: 'lecturer', 5249: 'chatter', 5250: 'conversation', 5251: 'subscribe', 5252: 'thornton', 5253: 'lacey', 5254: 'labrador', 5255: 'folder', 5256: 'stored', 5257: 'halls', 5258: 'residence', 5259: 'demolish', 5260: 'appleton', 5261: 'musgrave', 5262: 'spite', 5263: 'bertram', 5264: 'accept', 5265: 'habitually', 5266: 'upstairs', 5267: 'renounce', 5268: 'praising', 5269: 'perform', 5270: 'ride', 5271: 'slamming', 5272: 'steps', 5273: 'ripe', 5274: 'prey', 5275: 'augusta', 5276: 'tatiana', 5277: 'onegin', 5278: 'mining', 5279: 'engineers', 5280: 'mines', 5281: 'raphael', 5282: 'forwarded', 5283: 'winifred', 5284: 'foreman', 5285: 'ascribe', 5286: 'banned', 5287: 'swooned', 5288: 'astonishingly', 5289: 'handicaps', 5290: 'nineteenth', 5291: 'golfer', 5292: 'training', 5293: 'quiche', 5294: 'erika', 5295: 'omelet', 5296: 'mess', 5297: 'chewing', 5298: 'surrey', 5299: 'kingston', 5300: 'shropshire', 5301: 'recovered', 5302: 'wren', 5303: \"paul's\", 5304: 'cathedral', 5305: 'siobhan', 5306: 'burnt', 5307: 'pattern', 5308: 'dug', 5309: 'oates', 5310: 'save', 5311: 'comrades', 5312: 'supports', 5313: 'supporting', 5314: 'simultaneous', 5315: 'dimensional', 5316: 'catriona', 5317: 'visas', 5318: 'passports', 5319: 'concrete', 5320: 'blocks', 5321: 'beaver', 5322: 'dam', 5323: 'knocks', 5324: 'valencia', 5325: 'volcano', 5326: 'erupts', 5327: 'attack', 5328: 'infected', 5329: 'scrapie', 5330: 'gifts', 5331: 'autumn', 5332: 'harrods', 5333: 'chops', 5334: 'washes', 5335: 'mersey', 5336: 'jumping', 5337: 'crashed', 5338: 'liar', 5339: 'influence', 5340: 'invitation', 5341: 'optimistic', 5342: 'chances', 5343: 'authority', 5344: 'portray', 5345: 'promotion', 5346: 'illusions', 5347: 'shouting', 5348: 'competent', 5349: 'zone', 5350: 'connie', 5351: 'colleagues', 5352: 'nuclear', 5353: 'weapons', 5354: 'minds', 5355: 'saturdays', 5356: \"student's\", 5357: 'unreported', 5358: 'hilary', 5359: 'wary', 5360: 'outdone', 5361: 'weekdays', 5362: 'weekends', 5363: 'erich', 5364: 'martini', 5365: 'fireman', 5366: 'afternoon', 5367: 'lamp', 5368: 'surviving', 5369: 'dire', 5370: 'spirits', 5371: 'appointment', 5372: 'goldstein', 5373: 'heydrich', 5374: 'implications', 5375: 'thereof', 5376: 'observers', 5377: 'colson', 5378: 'topics', 5379: '\\x08a', 5380: '\\x08on', 5381: '\\x08girl', 5382: 'actress', 5383: 'sean', 5384: 'penn', 5385: 'npr', 5386: 'cleveland', 5387: 'recipes', 5388: 'marco', 5389: 'hector', 5390: 'mysteries', 5391: 'muttered', 5392: 'snoring', 5393: 'informative', 5394: 'kicks', 5395: 'perfect', 5396: 'goals', 5397: 'guilt', 5398: \"let's\", 5399: 'sunbathers', 5400: 'postcards', 5401: 'pelé', 5402: 'propane', 5403: 'reno', 5404: 'energy', 5405: 'associated', 5406: 'subsidiaries', 5407: 'cycled', 5408: 'closes', 5409: 'thickened', 5410: 'crawl', 5411: 'crawled', 5412: 'manageable', 5413: 'specialized', 5414: 'driver', 5415: 'dallas', 5416: 'boise', 5417: 'disagree', 5418: 'departmental', 5419: 'dams', 5420: 'elmer', 5421: 'relation', 5422: 'georges', 5423: '…', 5424: 'ta', 5425: 'portraits', 5426: 'hometown', 5427: 'builder', 5428: 'dylan', 5429: 'zimmerman', 5430: 'patients', 5431: 'novel', 5432: '3', 5433: 'stabbed', 5434: 'judged', 5435: 'realization', 5436: 'rodney', 5437: 'tropics', 5438: 'shit', 5439: 'stab', 5440: 'eighty', 5441: 'eight', 5442: 'billion', 5443: 'sixty', 5444: 'million', 5445: 'forty', 5446: 'landlord', 5447: 'mardi', 5448: 'gras', 5449: 'frees', 5450: 'dante', 5451: 'accused', 5452: 'rubber', 5453: 'flatter', 5454: 'windy', 5455: 'rifle', 5456: 'maybe', 5457: \"mightn't\", 5458: 'boiled', 5459: 'shop', 5460: 'druids', 5461: 'deeply', 5462: 'hunters', 5463: 'librarians', 5464: 'punched', 5465: 'johnson', 5466: 'analysed', 5467: 'recitals', 5468: 'boil', 5469: 'pegasus', 5470: \"emperor's\", 5471: 'ulysses', 5472: 'promiscuous', 5473: 'astounded', 5474: 'chuckles', 5475: 'milena', 5476: 'pleases', 5477: 'chopper', 5478: 'absinthe', 5479: 'sailing', 5480: 'ithaca', 5481: 'cries', 5482: 'poisonous', 5483: 'amazonia', 5484: 'microphone', 5485: \"salesman's\", 5486: 'patter', 5487: 'relentless', 5488: 'viruses', 5489: 'virulence', 5490: 'scones', 5491: 'neutralized', 5492: 'lick', 5493: 'foretold', 5494: 'move', 5495: 'barely', 5496: 'kane', 5497: 'fig', 5498: 'chuckled', 5499: 'quarter', 5500: 'geometry', 5501: 'xmas', 5502: 'carpenter', 5503: 'refrained', 5504: 'sandwiches', 5505: 'hierarchy', 5506: 'projections', 5507: 'bathroom', 5508: 'lurid', 5509: 'lime', 5510: 'colour', 5511: 'athens', 5512: \"homer's\", 5513: 'slew', 5514: \"lee's\", 5515: 'youngest', 5516: \"dawn's\", 5517: 'oldest', 5518: 'airport', 5519: 'amoeba', 5520: 'helmsman', 5521: 'librarian', 5522: 'vampires', 5523: 'vegetarian', 5524: 'stephan', 5525: 'fled', 5526: 'swallowed', 5527: 'defending', 5528: 'technician', 5529: 'pesto', 5530: 'tapestry', 5531: 'lancelot', 5532: 'easier', 5533: 'differential', 5534: 'equations', 5535: 'tourist', 5536: 'willow', 5537: 'tara', 5538: 'xander', 5539: 'shore', 5540: 'vp', 5541: 'foyer', 5542: 'technique', 5543: 'triumphed', 5544: 'prayer', 5545: \"ron's\", 5546: 'affair', 5547: 'evaporate', 5548: 'exclaimed', 5549: 'iphigenia', 5550: 'jimmy', 5551: 'thebes', 5552: 'starting', 5553: 'thread', 5554: 'path', 5555: 'labyrinth', 5556: 'dining', 5557: 'crocodiles', 5558: 'advisable', 5559: 'armour', 5560: 'galloped', 5561: 'troy', 5562: 'twinge', 5563: 'wizard', 5564: 'beetle', 5565: 'wave', 5566: 'wand', 5567: 'belonging', 5568: 'intrepid', 5569: 'fearful', 5570: \"captain's\", 5571: 'galleon', 5572: 'whales', 5573: 'unfortunately', 5574: 'chuckle', 5575: 'sorcerer', 5576: 'frieda', 5577: 'np', 5578: 'survive', 5579: 'sunrise', 5580: 'solace', 5581: 'disappear', 5582: \"richard's\", 5583: 'madeleine', 5584: 'sardines', 5585: 'temple', 5586: 'contemplate', 5587: 'devotees', 5588: 'mangoes', 5589: 'fraser', 5590: \"julie's\", 5591: 'soak', 5592: \"anson's\", 5593: 'ear', 5594: 'assassin', 5595: 'ginger', 5596: 'digitize', 5597: 'slay', 5598: 'strangest', 5599: 'breeze', 5600: 'stretch', 5601: 'mechanical', 5602: 'bangor', 5603: 'fluid', 5604: 'courts', 5605: 'klaus', 5606: 'perceives', 5607: 'incompetent', 5608: 'overloaded', 5609: 'transducer', 5610: 'regarded', 5611: 'absurd', 5612: 'muriel', 5613: 'sane', 5614: 'younger', 5615: 'older', 5616: 'poor', 5617: 'delicatessen', 5618: 'credit', 5619: 'worker', 5620: 'launched', 5621: 'rocket', 5622: 'visitor', 5623: 'charming', 5624: 'paperback', 5625: 'lift', 5626: 'crammed', 5627: 'hardware', 5628: 'conditions', 5629: 'lip', 5630: 'soaring', 5631: 'temperatures', 5632: 'predicted', 5633: 'weekend', 5634: 'twists', 5635: 'pastry', 5636: 'explode', 5637: 'noodle', 5638: 'ballet', 5639: 'benny', 5640: 'decisive', 5641: 'factor', 5642: 'crocodile', 5643: 'doughnut', 5644: 'require', 5645: 'executives', 5646: 'unpopular', 5647: 'fta', 5648: 'feasibility', 5649: 'setting', 5650: 'network', 5651: 'tour', 5652: \"needn't\", 5653: 'ricky', 5654: 'achieve', 5655: 'peace', 5656: 'choose', 5657: 'bored', 5658: 'peasant', 5659: 'contribution', 5660: 'summary', 5661: 'hopefully', 5662: 'crumb', 5663: 'colin', 5664: 'mortgage', 5665: 'cab', 5666: 'drum', 5667: 'gorilla', 5668: 'airplane', 5669: 'lima', 5670: 'macarena', 5671: 'albino', 5672: 'eggplant', 5673: 'turkey', 5674: \"else's\", 5675: 'magnus', 5676: 'dome', 5677: 'knock', 5678: 'fugitive', 5679: 'motionless', 5680: 'discovery', 5681: 'guard', 5682: 'crossed', 5683: 'fleece', 5684: 'thickens', 5685: 'sophie', 5686: 'revealed', 5687: 'sniffed', 5688: 'khyber', 5689: 'accurate', 5690: \"government's\", 5691: 'poisoning', 5692: 'elixir', 5693: 'fortunately', 5694: 'hermione', 5695: 'dinah', 5696: 'linguists', 5697: 'fierce', 5698: 'battle', 5699: 'bookcase', 5700: 'muscle', 5701: 'serve', 5702: 'graduating', 5703: 'leek', 5704: 'bathing', 5705: 'mayan', 5706: 'sometime', 5707: 'laura', 5708: 'firefighters', 5709: 'math', 5710: 'tackle', 5711: 'drop', 5712: 'assignments', 5713: 'groups', 5714: 'mo', 5715: 'respected', 5716: 'summed', 5717: 'coach', 5718: 'maine', 5719: 'adult', 5720: 'agent', 5721: 'alligator', 5722: 'jekyll', 5723: 'medusa', 5724: 'reuben', 5725: 'hash', 5726: 'elephant', 5727: 'simon', 5728: 'funnies', 5729: 'ira', 5730: 'arizona', 5731: 'goldwater', 5732: 'massachusetts', 5733: 'mccormack', 5734: 'millie', 5735: 'maytag', 5736: 'russia', 5737: 'political', 5738: 'blunder', 5739: 'u', 5740: 'quarts', 5741: 'clorox', 5742: 'hanoi', 5743: 'institute', 5744: 'raising', 5745: \"cow's\", 5746: 'liver', 5747: 'funny', 5748: \"ted's\", 5749: \"administration's\", 5750: 'pressure', 5751: 'angel', 5752: \"gould's\", 5753: 'performance', 5754: 'bach', 5755: 'anywhere', 5756: \"ross's\", 5757: 'harpsichord', 5758: \"frank's\", 5759: \"spider's\", 5760: 'fang', 5761: 'blow', 5762: 'pentagon', 5763: 'dedicated', 5764: \"friend's\", 5765: 'unwise', 5766: 'exit', 5767: 'scam', 5768: 'eligible', 5769: 'enrolled', 5770: 'bills', 5771: 'added', 5772: 'harvard', 5773: 'corn', 5774: 'dye', 5775: 'accelerator', 5776: 'stockings', 5777: 'superman', 5778: 'dealership', 5779: 'duck', 5780: 'creating', 5781: 'afterwards', 5782: 'atom', 5783: 'testified', 5784: 'exposed', 5785: 'associates', 5786: 'spanish', 5787: \"themselves'\", 5788: 'fever', 5789: 'elections', 5790: '2000', 5791: 'remarked', 5792: 'additional', 5793: 'required', 5794: 'created', 5795: 'denies', 5796: 'feature', 5797: 'structures', 5798: 'daughter', 5799: 'dined', 5800: 'above', 5801: 'supportive', 5802: 'shape', 5803: 'devoted', 5804: 'bo', 5805: 'putter', 5806: 'kris', 5807: 'assembled', 5808: 'prosecution', 5809: 'notions', 5810: 'loch', 5811: 'ness', 5812: 'row', 5813: 'dreads', 5814: 'voters', 5815: 'dealers', 5816: 'improvement', 5817: 'idiocy', 5818: 'pleasure', 5819: 'counted', 5820: 'untenable', 5821: 'grudgingly', 5822: 'judgments', 5823: 'incompetence', 5824: 'auto', 5825: 'mechanic', 5826: 'impress', 5827: 'master'}\n"
          ],
          "name": "stdout"
        }
      ]
    },
    {
      "cell_type": "code",
      "metadata": {
        "colab": {
          "base_uri": "https://localhost:8080/"
        },
        "id": "mX5igGe8HHft",
        "outputId": "8b8d7cf0-a9e2-4ee9-b096-b78036b4b63f"
      },
      "source": [
        "# Making Sure That Every Element Has length > 1\n",
        "for ele in tokenized_text:\n",
        "    if len(ele) <= 1:\n",
        "        print(ele)\n",
        "        tokenized_text.remove(ele)\n"
      ],
      "execution_count": 6,
      "outputs": [
        {
          "output_type": "stream",
          "text": [
            "9594\n"
          ],
          "name": "stdout"
        }
      ]
    },
    {
      "cell_type": "code",
      "metadata": {
        "colab": {
          "base_uri": "https://localhost:8080/"
        },
        "id": "xKVi2HJsC-Hk",
        "outputId": "8c433903-8ef2-4c09-dba8-9807fc07ffdc"
      },
      "source": [
        "# Randomly Picking The Missing Word(Output) and Using the rest of the Sentence as the Input.\n",
        "# Using each sentence thrice\n",
        "outputs = []\n",
        "inputs = []\n",
        "for i in range(len(tokenized_text)):\n",
        "    seq1 = list(tokenized_text[i])\n",
        "    seq2 = list(tokenized_text[i])\n",
        "    seq3 = list(tokenized_text[i])\n",
        "    ele1 = random.choice(seq1)\n",
        "    ele2 = random.choice(seq2)\n",
        "    ele3 = random.choice(seq3)\n",
        "    outputs.append(ele1)\n",
        "    outputs.append(ele2)\n",
        "    outputs.append(ele3)\n",
        "    seq1.remove(ele1)\n",
        "    seq2.remove(ele2)\n",
        "    seq3.remove(ele3)\n",
        "    inputs.append(seq1)\n",
        "    inputs.append(seq2)\n",
        "    inputs.append(seq3)\n",
        "\n",
        "idx = 2\n",
        "print(inputs[idx])\n",
        "print(outputs[idx])\n"
      ],
      "execution_count": 7,
      "outputs": [
        {
          "output_type": "stream",
          "text": [
            "[204, 289, 232, 163, 28, 777, 778, 1251, 779, 72, 25, 3828]\n",
            "1\n"
          ],
          "name": "stdout"
        }
      ]
    },
    {
      "cell_type": "code",
      "metadata": {
        "id": "s4ftkwkxURFN",
        "colab": {
          "base_uri": "https://localhost:8080/"
        },
        "outputId": "67c3e4fd-9479-4f01-a300-7c8625abf827"
      },
      "source": [
        "inp_padded = pad_sequences(inputs)\n",
        "inp_padded.shape"
      ],
      "execution_count": 8,
      "outputs": [
        {
          "output_type": "execute_result",
          "data": {
            "text/plain": [
              "(28782, 41)"
            ]
          },
          "metadata": {},
          "execution_count": 8
        }
      ]
    },
    {
      "cell_type": "markdown",
      "metadata": {
        "id": "KBZgq-0ZQHh7"
      },
      "source": [
        "#Build and Train Model"
      ]
    },
    {
      "cell_type": "code",
      "metadata": {
        "id": "OKuJw9mvpU9l"
      },
      "source": [
        "depth = int(list(tokenizer.word_index.values())[-1] + 1)"
      ],
      "execution_count": 9,
      "outputs": []
    },
    {
      "cell_type": "markdown",
      "metadata": {
        "id": "8Qq-aqhMQNLy"
      },
      "source": [
        "##Custom Layers"
      ]
    },
    {
      "cell_type": "code",
      "metadata": {
        "id": "v3SDQKODoLa2"
      },
      "source": [
        "class PreprocessLayer(tf.keras.layers.Layer):\n",
        "    def __init__(self, depth):\n",
        "        super(PreprocessLayer, self).__init__()\n",
        "        self.depth = depth\n",
        "    \n",
        "    def call(self, inputs):\n",
        "        inp_one_hot = tf.one_hot(inputs, depth=self.depth)\n",
        "\n",
        "        return inp_one_hot, inputs\n",
        "\n",
        "class AveragePoolingLayer(tf.keras.layers.Layer):\n",
        "    def __init__(self, ignore=0):\n",
        "        super(AveragePoolingLayer, self).__init__()\n",
        "        self.ignore = ignore\n",
        "    \n",
        "    def call(self, inp_one_hot, inp_padded):\n",
        "        inp_pad_mask = tf.cast((inp_padded != self.ignore), tf.float64)\n",
        "        inp_mask_sum = tf.math.reduce_sum(inp_pad_mask, axis=-1)\n",
        "        inp_one_hot_1 = inp_one_hot  * tf.expand_dims(inp_pad_mask, axis=-1)\n",
        "        inp_one_hot_avg = tf.math.reduce_sum(inp_one_hot_1, axis=1) / tf.expand_dims(inp_mask_sum, axis=-1)\n",
        "\n",
        "        return inp_one_hot_avg\n"
      ],
      "execution_count": 10,
      "outputs": []
    },
    {
      "cell_type": "markdown",
      "metadata": {
        "id": "p-zzyx4CQgeZ"
      },
      "source": [
        "##Initialize The Model"
      ]
    },
    {
      "cell_type": "code",
      "metadata": {
        "id": "kGHkuToUpdGO"
      },
      "source": [
        "DenseLayer1 = tf.keras.layers.Dense(256, activation='relu')\n",
        "DenseLayer2 = tf.keras.layers.Dense(depth, activation='softmax')\n",
        "model_inp = tf.keras.layers.Input(shape=(41,), dtype=tf.int32)\n",
        "one_hot_inp, padded_inp = PreprocessLayer(depth=depth)(model_inp)\n",
        "x = AveragePoolingLayer()(one_hot_inp, padded_inp)\n",
        "x = DenseLayer1(x)\n",
        "model_out = DenseLayer2(x)\n",
        "model = tf.keras.Model(inputs=model_inp, outputs=model_out)\n",
        "model.compile(loss='sparse_categorical_crossentropy', optimizer='adam', metrics=['accuracy'])"
      ],
      "execution_count": 11,
      "outputs": []
    },
    {
      "cell_type": "markdown",
      "metadata": {
        "id": "RY5Dj3_mQqfZ"
      },
      "source": [
        "##Train The Model"
      ]
    },
    {
      "cell_type": "code",
      "metadata": {
        "colab": {
          "base_uri": "https://localhost:8080/"
        },
        "id": "HBU3GV7nZIp7",
        "outputId": "4311df87-4310-4d84-fce6-fd2d97d68faf"
      },
      "source": [
        "model.fit(inp_padded, np.array(outputs), epochs=40)"
      ],
      "execution_count": 12,
      "outputs": [
        {
          "output_type": "stream",
          "text": [
            "Epoch 1/40\n",
            "900/900 [==============================] - 10s 8ms/step - loss: 6.7742 - accuracy: 0.0861\n",
            "Epoch 2/40\n",
            "900/900 [==============================] - 7s 8ms/step - loss: 6.2012 - accuracy: 0.0879\n",
            "Epoch 3/40\n",
            "900/900 [==============================] - 7s 8ms/step - loss: 5.9079 - accuracy: 0.1039\n",
            "Epoch 4/40\n",
            "900/900 [==============================] - 7s 8ms/step - loss: 5.5292 - accuracy: 0.1311\n",
            "Epoch 5/40\n",
            "900/900 [==============================] - 7s 8ms/step - loss: 5.0474 - accuracy: 0.1791\n",
            "Epoch 6/40\n",
            "900/900 [==============================] - 7s 8ms/step - loss: 4.4919 - accuracy: 0.2407\n",
            "Epoch 7/40\n",
            "900/900 [==============================] - 7s 8ms/step - loss: 3.8969 - accuracy: 0.3081\n",
            "Epoch 8/40\n",
            "900/900 [==============================] - 7s 8ms/step - loss: 3.3010 - accuracy: 0.3804\n",
            "Epoch 9/40\n",
            "900/900 [==============================] - 7s 8ms/step - loss: 2.7437 - accuracy: 0.4589\n",
            "Epoch 10/40\n",
            "900/900 [==============================] - 7s 8ms/step - loss: 2.2596 - accuracy: 0.5340\n",
            "Epoch 11/40\n",
            "900/900 [==============================] - 7s 8ms/step - loss: 1.8693 - accuracy: 0.5921\n",
            "Epoch 12/40\n",
            "900/900 [==============================] - 7s 8ms/step - loss: 1.5592 - accuracy: 0.6485\n",
            "Epoch 13/40\n",
            "900/900 [==============================] - 7s 8ms/step - loss: 1.3163 - accuracy: 0.6971\n",
            "Epoch 14/40\n",
            "900/900 [==============================] - 7s 8ms/step - loss: 1.1249 - accuracy: 0.7433\n",
            "Epoch 15/40\n",
            "900/900 [==============================] - 7s 8ms/step - loss: 0.9738 - accuracy: 0.7751\n",
            "Epoch 16/40\n",
            "900/900 [==============================] - 7s 8ms/step - loss: 0.8480 - accuracy: 0.8075\n",
            "Epoch 17/40\n",
            "900/900 [==============================] - 7s 8ms/step - loss: 0.7416 - accuracy: 0.8316\n",
            "Epoch 18/40\n",
            "900/900 [==============================] - 7s 8ms/step - loss: 0.6522 - accuracy: 0.8523\n",
            "Epoch 19/40\n",
            "900/900 [==============================] - 7s 8ms/step - loss: 0.5753 - accuracy: 0.8696\n",
            "Epoch 20/40\n",
            "900/900 [==============================] - 7s 8ms/step - loss: 0.5092 - accuracy: 0.8864\n",
            "Epoch 21/40\n",
            "900/900 [==============================] - 7s 8ms/step - loss: 0.4519 - accuracy: 0.9018\n",
            "Epoch 22/40\n",
            "900/900 [==============================] - 7s 8ms/step - loss: 0.4040 - accuracy: 0.9105\n",
            "Epoch 23/40\n",
            "900/900 [==============================] - 7s 8ms/step - loss: 0.3611 - accuracy: 0.9204\n",
            "Epoch 24/40\n",
            "900/900 [==============================] - 7s 8ms/step - loss: 0.3253 - accuracy: 0.9290\n",
            "Epoch 25/40\n",
            "900/900 [==============================] - 7s 8ms/step - loss: 0.2941 - accuracy: 0.9346\n",
            "Epoch 26/40\n",
            "900/900 [==============================] - 7s 8ms/step - loss: 0.2664 - accuracy: 0.9409\n",
            "Epoch 27/40\n",
            "900/900 [==============================] - 7s 8ms/step - loss: 0.2426 - accuracy: 0.9454\n",
            "Epoch 28/40\n",
            "900/900 [==============================] - 7s 8ms/step - loss: 0.2217 - accuracy: 0.9500\n",
            "Epoch 29/40\n",
            "900/900 [==============================] - 7s 8ms/step - loss: 0.2060 - accuracy: 0.9529\n",
            "Epoch 30/40\n",
            "900/900 [==============================] - 7s 8ms/step - loss: 0.1891 - accuracy: 0.9568\n",
            "Epoch 31/40\n",
            "900/900 [==============================] - 7s 8ms/step - loss: 0.1765 - accuracy: 0.9586\n",
            "Epoch 32/40\n",
            "900/900 [==============================] - 7s 8ms/step - loss: 0.1644 - accuracy: 0.9604\n",
            "Epoch 33/40\n",
            "900/900 [==============================] - 7s 8ms/step - loss: 0.1551 - accuracy: 0.9617\n",
            "Epoch 34/40\n",
            "900/900 [==============================] - 7s 8ms/step - loss: 0.1460 - accuracy: 0.9621\n",
            "Epoch 35/40\n",
            "900/900 [==============================] - 7s 8ms/step - loss: 0.1377 - accuracy: 0.9647\n",
            "Epoch 36/40\n",
            "900/900 [==============================] - 7s 8ms/step - loss: 0.1310 - accuracy: 0.9649\n",
            "Epoch 37/40\n",
            "900/900 [==============================] - 7s 8ms/step - loss: 0.1248 - accuracy: 0.9662\n",
            "Epoch 38/40\n",
            "900/900 [==============================] - 7s 8ms/step - loss: 0.1192 - accuracy: 0.9667\n",
            "Epoch 39/40\n",
            "900/900 [==============================] - 7s 8ms/step - loss: 0.1141 - accuracy: 0.9679\n",
            "Epoch 40/40\n",
            "900/900 [==============================] - 7s 8ms/step - loss: 0.1111 - accuracy: 0.9674\n"
          ],
          "name": "stdout"
        },
        {
          "output_type": "execute_result",
          "data": {
            "text/plain": [
              "<keras.callbacks.History at 0x7f38a1eeff50>"
            ]
          },
          "metadata": {},
          "execution_count": 12
        }
      ]
    },
    {
      "cell_type": "markdown",
      "metadata": {
        "id": "hrY3BfXaWXg6"
      },
      "source": [
        "##Predict using a random sentence\n",
        "This is majorly done to check if the model works decently well on a test example. It is a very simple sanity check."
      ]
    },
    {
      "cell_type": "code",
      "metadata": {
        "colab": {
          "base_uri": "https://localhost:8080/"
        },
        "id": "QsotSOqSaRdT",
        "outputId": "f86ba294-3df4-478b-b69a-8decf4cff227"
      },
      "source": [
        "def predict(sentence):\n",
        "    tokenized = tokenizer.texts_to_sequences([sentence])\n",
        "    tokenized.append([0] * 41)\n",
        "    tokenized = pad_sequences(tokenized)\n",
        "    out = model.predict(tokenized)[0]\n",
        "    max_out = tf.math.argmax(out)\n",
        "    output = idx_word.get(max_out.numpy(), \"\")\n",
        "    print(output)\n",
        "predict(\"the cat sat on the\")"
      ],
      "execution_count": 17,
      "outputs": [
        {
          "output_type": "stream",
          "text": [
            "table\n"
          ],
          "name": "stdout"
        }
      ]
    },
    {
      "cell_type": "code",
      "metadata": {
        "colab": {
          "base_uri": "https://localhost:8080/"
        },
        "id": "Jbhb83dJaEog",
        "outputId": "1f9e3c75-580a-41cf-e606-af06a935084a"
      },
      "source": [
        "predict(\"on sat the cat the\")"
      ],
      "execution_count": 18,
      "outputs": [
        {
          "output_type": "stream",
          "text": [
            "table\n"
          ],
          "name": "stdout"
        }
      ]
    },
    {
      "cell_type": "markdown",
      "metadata": {
        "id": "RMbQxn4KaMOC"
      },
      "source": [
        "We can see that the model predicts the same word even though the order of the words are shuffled. \n",
        "\n",
        "This is because the Continuous Bag Of Words(CBOW) model we use here doesn't care about the order of the words while predicting."
      ]
    },
    {
      "cell_type": "markdown",
      "metadata": {
        "id": "Cc148bbEa0iD"
      },
      "source": [
        "#Word Embeddings"
      ]
    },
    {
      "cell_type": "markdown",
      "metadata": {
        "id": "soppobVsa4nT"
      },
      "source": [
        "##Extracting The Embeddings"
      ]
    },
    {
      "cell_type": "code",
      "metadata": {
        "colab": {
          "base_uri": "https://localhost:8080/"
        },
        "id": "y5Q1L9ZAqrQ_",
        "outputId": "2f045b73-60b8-4a65-fdc5-81ab2b7c308c"
      },
      "source": [
        "weight_one = DenseLayer1.get_weights()[0]\n",
        "weight_two = DenseLayer2.get_weights()[0]\n",
        "embeddings = 0.5 * (weight_one + weight_two.T)\n",
        "embeddings.shape"
      ],
      "execution_count": 80,
      "outputs": [
        {
          "output_type": "execute_result",
          "data": {
            "text/plain": [
              "(5828, 256)"
            ]
          },
          "metadata": {},
          "execution_count": 80
        }
      ]
    },
    {
      "cell_type": "markdown",
      "metadata": {
        "id": "45oqydyYbU_b"
      },
      "source": [
        "##Saving The Embeddings"
      ]
    },
    {
      "cell_type": "markdown",
      "metadata": {
        "id": "4-8VQVg8bYWK"
      },
      "source": [
        "###Saving as a .txt File"
      ]
    },
    {
      "cell_type": "code",
      "metadata": {
        "id": "eTTCqkZWzAre"
      },
      "source": [
        "with open(\"/content/word2vecembed.txt\", 'w') as file:\n",
        "    for i in range(len(idx_word)):\n",
        "        file.write(f\"{idx_word[i+1]} {embeddings[i+1]}\")"
      ],
      "execution_count": 83,
      "outputs": []
    },
    {
      "cell_type": "markdown",
      "metadata": {
        "id": "8w_honV8bdiS"
      },
      "source": [
        "###Saving as a .tsv file\n",
        "TSV files are better while saving word embeddings as TSVs are the file types suported in Embedding Projectors."
      ]
    },
    {
      "cell_type": "code",
      "metadata": {
        "id": "Sg1IKK4F1mxe"
      },
      "source": [
        "import io"
      ],
      "execution_count": 91,
      "outputs": []
    },
    {
      "cell_type": "code",
      "metadata": {
        "id": "NuMUigpJ1Lnl"
      },
      "source": [
        "out_v = io.open('word2vec_embeddings.tsv', 'w', encoding='utf-8')\n",
        "out_m = io.open('word2vec_vocab.tsv', 'w', encoding='utf-8')\n",
        "\n",
        "for index, word in enumerate(list(idx_word.values())):\n",
        "    vec = embeddings[index+1]\n",
        "    out_v.write('\\t'.join([str(x) for x in vec]) + \"\\n\")\n",
        "    out_m.write(word + \"\\n\")\n",
        "out_v.close()\n",
        "out_m.close()"
      ],
      "execution_count": 92,
      "outputs": []
    },
    {
      "cell_type": "markdown",
      "metadata": {
        "id": "RyiHRsq6cQQ0"
      },
      "source": [
        "###Downloading The Files"
      ]
    },
    {
      "cell_type": "code",
      "metadata": {
        "colab": {
          "base_uri": "https://localhost:8080/",
          "height": 17
        },
        "id": "xHR-jVqu28dm",
        "outputId": "de042bd8-70c3-4a68-ec09-faf2e70115dd"
      },
      "source": [
        "try:\n",
        "  from google.colab import files\n",
        "  files.download('embeddings.tsv')\n",
        "  files.download('words.tsv')\n",
        "except Exception:\n",
        "  pass"
      ],
      "execution_count": 93,
      "outputs": [
        {
          "output_type": "display_data",
          "data": {
            "application/javascript": [
              "\n",
              "    async function download(id, filename, size) {\n",
              "      if (!google.colab.kernel.accessAllowed) {\n",
              "        return;\n",
              "      }\n",
              "      const div = document.createElement('div');\n",
              "      const label = document.createElement('label');\n",
              "      label.textContent = `Downloading \"${filename}\": `;\n",
              "      div.appendChild(label);\n",
              "      const progress = document.createElement('progress');\n",
              "      progress.max = size;\n",
              "      div.appendChild(progress);\n",
              "      document.body.appendChild(div);\n",
              "\n",
              "      const buffers = [];\n",
              "      let downloaded = 0;\n",
              "\n",
              "      const channel = await google.colab.kernel.comms.open(id);\n",
              "      // Send a message to notify the kernel that we're ready.\n",
              "      channel.send({})\n",
              "\n",
              "      for await (const message of channel.messages) {\n",
              "        // Send a message to notify the kernel that we're ready.\n",
              "        channel.send({})\n",
              "        if (message.buffers) {\n",
              "          for (const buffer of message.buffers) {\n",
              "            buffers.push(buffer);\n",
              "            downloaded += buffer.byteLength;\n",
              "            progress.value = downloaded;\n",
              "          }\n",
              "        }\n",
              "      }\n",
              "      const blob = new Blob(buffers, {type: 'application/binary'});\n",
              "      const a = document.createElement('a');\n",
              "      a.href = window.URL.createObjectURL(blob);\n",
              "      a.download = filename;\n",
              "      div.appendChild(a);\n",
              "      a.click();\n",
              "      div.remove();\n",
              "    }\n",
              "  "
            ],
            "text/plain": [
              "<IPython.core.display.Javascript object>"
            ]
          },
          "metadata": {}
        },
        {
          "output_type": "display_data",
          "data": {
            "application/javascript": [
              "download(\"download_79e37739-1549-4bf5-b5cb-b92685aeba2e\", \"vectors.tsv\", 17214518)"
            ],
            "text/plain": [
              "<IPython.core.display.Javascript object>"
            ]
          },
          "metadata": {}
        },
        {
          "output_type": "display_data",
          "data": {
            "application/javascript": [
              "\n",
              "    async function download(id, filename, size) {\n",
              "      if (!google.colab.kernel.accessAllowed) {\n",
              "        return;\n",
              "      }\n",
              "      const div = document.createElement('div');\n",
              "      const label = document.createElement('label');\n",
              "      label.textContent = `Downloading \"${filename}\": `;\n",
              "      div.appendChild(label);\n",
              "      const progress = document.createElement('progress');\n",
              "      progress.max = size;\n",
              "      div.appendChild(progress);\n",
              "      document.body.appendChild(div);\n",
              "\n",
              "      const buffers = [];\n",
              "      let downloaded = 0;\n",
              "\n",
              "      const channel = await google.colab.kernel.comms.open(id);\n",
              "      // Send a message to notify the kernel that we're ready.\n",
              "      channel.send({})\n",
              "\n",
              "      for await (const message of channel.messages) {\n",
              "        // Send a message to notify the kernel that we're ready.\n",
              "        channel.send({})\n",
              "        if (message.buffers) {\n",
              "          for (const buffer of message.buffers) {\n",
              "            buffers.push(buffer);\n",
              "            downloaded += buffer.byteLength;\n",
              "            progress.value = downloaded;\n",
              "          }\n",
              "        }\n",
              "      }\n",
              "      const blob = new Blob(buffers, {type: 'application/binary'});\n",
              "      const a = document.createElement('a');\n",
              "      a.href = window.URL.createObjectURL(blob);\n",
              "      a.download = filename;\n",
              "      div.appendChild(a);\n",
              "      a.click();\n",
              "      div.remove();\n",
              "    }\n",
              "  "
            ],
            "text/plain": [
              "<IPython.core.display.Javascript object>"
            ]
          },
          "metadata": {}
        },
        {
          "output_type": "display_data",
          "data": {
            "application/javascript": [
              "download(\"download_d9814f10-be42-4140-bd9c-2bdb3085ec65\", \"metadata.tsv\", 43421)"
            ],
            "text/plain": [
              "<IPython.core.display.Javascript object>"
            ]
          },
          "metadata": {}
        }
      ]
    },
    {
      "cell_type": "code",
      "metadata": {
        "colab": {
          "base_uri": "https://localhost:8080/",
          "height": 17
        },
        "id": "NE5scuXA6NxW",
        "outputId": "742afe07-0954-474b-fb88-7815c9da38a4"
      },
      "source": [
        "try:\n",
        "  from google.colab import files\n",
        "  files.download('/content/word2vecembed.txt')\n",
        "except Exception:\n",
        "  pass"
      ],
      "execution_count": 94,
      "outputs": [
        {
          "output_type": "display_data",
          "data": {
            "application/javascript": [
              "\n",
              "    async function download(id, filename, size) {\n",
              "      if (!google.colab.kernel.accessAllowed) {\n",
              "        return;\n",
              "      }\n",
              "      const div = document.createElement('div');\n",
              "      const label = document.createElement('label');\n",
              "      label.textContent = `Downloading \"${filename}\": `;\n",
              "      div.appendChild(label);\n",
              "      const progress = document.createElement('progress');\n",
              "      progress.max = size;\n",
              "      div.appendChild(progress);\n",
              "      document.body.appendChild(div);\n",
              "\n",
              "      const buffers = [];\n",
              "      let downloaded = 0;\n",
              "\n",
              "      const channel = await google.colab.kernel.comms.open(id);\n",
              "      // Send a message to notify the kernel that we're ready.\n",
              "      channel.send({})\n",
              "\n",
              "      for await (const message of channel.messages) {\n",
              "        // Send a message to notify the kernel that we're ready.\n",
              "        channel.send({})\n",
              "        if (message.buffers) {\n",
              "          for (const buffer of message.buffers) {\n",
              "            buffers.push(buffer);\n",
              "            downloaded += buffer.byteLength;\n",
              "            progress.value = downloaded;\n",
              "          }\n",
              "        }\n",
              "      }\n",
              "      const blob = new Blob(buffers, {type: 'application/binary'});\n",
              "      const a = document.createElement('a');\n",
              "      a.href = window.URL.createObjectURL(blob);\n",
              "      a.download = filename;\n",
              "      div.appendChild(a);\n",
              "      a.click();\n",
              "      div.remove();\n",
              "    }\n",
              "  "
            ],
            "text/plain": [
              "<IPython.core.display.Javascript object>"
            ]
          },
          "metadata": {}
        },
        {
          "output_type": "display_data",
          "data": {
            "application/javascript": [
              "download(\"download_1e9bd695-6108-4390-9390-b2bb0a9f9001\", \"word2vecembed.txt\", 21879318)"
            ],
            "text/plain": [
              "<IPython.core.display.Javascript object>"
            ]
          },
          "metadata": {}
        }
      ]
    }
  ]
}